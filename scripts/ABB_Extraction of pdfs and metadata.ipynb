{
 "cells": [
  {
   "cell_type": "code",
   "execution_count": 0,
   "metadata": {
    "application/vnd.databricks.v1+cell": {
     "cellMetadata": {
      "byteLimit": 2048000,
      "rowLimit": 10000
     },
     "inputWidgets": {},
     "nuid": "5795f73a-a98b-4be6-a6fd-a8cb418319cc",
     "showTitle": false,
     "title": ""
    }
   },
   "outputs": [],
   "source": [
    "import requests\n",
    "import os\n",
    "import json"
   ]
  },
  {
   "cell_type": "code",
   "execution_count": 0,
   "metadata": {
    "application/vnd.databricks.v1+cell": {
     "cellMetadata": {
      "byteLimit": 2048000,
      "rowLimit": 10000
     },
     "inputWidgets": {},
     "nuid": "e5de5e4b-03bc-4ec0-ad10-fb1cadf47d78",
     "showTitle": false,
     "title": ""
    }
   },
   "outputs": [],
   "source": [
    "# Base URLs for API requests\n",
    "base_url = \"https://inventaris.onroerenderfgoed.be\"\n",
    "besluiten_base_url = \"https://besluiten.onroerenderfgoed.be/besluiten\"\n",
    "besluit_types_base_url = \"https://id.erfgoed.net/thesauri/besluittypes\"\n"
   ]
  },
  {
   "cell_type": "code",
   "execution_count": 0,
   "metadata": {
    "application/vnd.databricks.v1+cell": {
     "cellMetadata": {
      "byteLimit": 2048000,
      "rowLimit": 10000
     },
     "inputWidgets": {},
     "nuid": "d5f59d24-74ed-48d1-8fee-5e00e295d7d5",
     "showTitle": false,
     "title": ""
    }
   },
   "outputs": [],
   "source": [
    "# DBFS directory where files will be stored\n",
    "dbfs_save_dir = \"/dbfs/FileStore/ABB_pdf\""
   ]
  },
  {
   "cell_type": "code",
   "execution_count": 0,
   "metadata": {
    "application/vnd.databricks.v1+cell": {
     "cellMetadata": {
      "byteLimit": 2048000,
      "rowLimit": 10000
     },
     "inputWidgets": {},
     "nuid": "8e63aba2-40db-4a93-9210-9fac6827142e",
     "showTitle": false,
     "title": ""
    }
   },
   "outputs": [],
   "source": [
    "# Headers for JSON and CSV requests\n",
    "headers_json = {\n",
    "    \"Accept\": \"application/json\"\n",
    "}\n",
    "headers_csv = {\n",
    "    \"Accept\": \"text/csv\"\n",
    "}"
   ]
  },
  {
   "cell_type": "code",
   "execution_count": 0,
   "metadata": {
    "application/vnd.databricks.v1+cell": {
     "cellMetadata": {
      "byteLimit": 2048000,
      "rowLimit": 10000
     },
     "inputWidgets": {},
     "nuid": "165ba3ff-9df9-432a-a3b2-724dad31e836",
     "showTitle": false,
     "title": ""
    }
   },
   "outputs": [],
   "source": [
    "# Function to search 'aanduidingsobjecten' based on text query\n",
    "def search_aanduidingsobjecten(tekst, limit=12):\n",
    "    url = f\"{base_url}/aanduidingsobjecten\"\n",
    "    params = {\n",
    "        \"tekst\": tekst\n",
    "    }\n",
    "    response = requests.get(url, headers=headers_json, params=params)\n",
    "    \n",
    "    if response.status_code == 200:\n",
    "        return response.json()  # Return JSON response\n",
    "    else:\n",
    "        print(f\"Error searching for aanduidingsobjecten: {response.status_code}\")\n",
    "        return None\n",
    "\n",
    "# Function to get detailed information from 'self' link of 'aanduidingsobjecten'\n",
    "def get_aanduidingsobjecten_details(obj_id):\n",
    "    url = f\"{base_url}/aanduidingsobjecten/{obj_id}\"\n",
    "    response = requests.get(url, headers=headers_json)\n",
    "    \n",
    "    if response.status_code == 200:\n",
    "        return response.json()\n",
    "    else:\n",
    "        print(f\"Error fetching details for {obj_id}: {response.status_code}\")\n",
    "        return None\n",
    "\n",
    "# Function to fetch the besluiten (decisions) for a specific besluit ID\n",
    "def fetch_besluit_files(besluit_id):\n",
    "    url = f\"{besluiten_base_url}/{besluit_id}/bestanden/\"\n",
    "    response = requests.get(url, headers=headers_json)\n",
    "    \n",
    "    if response.status_code == 200:\n",
    "        return response.json()  # Assuming JSON response with file metadata\n",
    "    else:\n",
    "        print(f\"Error fetching files for besluit {besluit_id}: {response.status_code}\")\n",
    "        return None\n",
    "\n",
    "\n"
   ]
  },
  {
   "cell_type": "code",
   "execution_count": 0,
   "metadata": {
    "application/vnd.databricks.v1+cell": {
     "cellMetadata": {
      "byteLimit": 2048000,
      "rowLimit": 10000
     },
     "inputWidgets": {},
     "nuid": "868dbb9e-a2f1-4ef5-9234-c205423ab8a7",
     "showTitle": false,
     "title": ""
    }
   },
   "outputs": [
    {
     "output_type": "execute_result",
     "data": {
      "text/plain": [
       "'\\n# Function to download PDF files to DBFS\\ndef download_pdf_to_dbfs(file_id, besluit_id, save_dir):\\n    # Construct the final URL for downloading the file\\n    file_url = f\"{besluiten_base_url}/{besluit_id}/bestanden/{file_id}\"\\n    print(f\"Attempting to download from URL: {file_url}\")\\n    \\n    response = requests.get(file_url, stream=True)\\n    \\n    if response.status_code == 200:\\n        # Ensure DBFS save directory exists\\n        dbutils.fs.mkdirs(save_dir)  # No need for \\'/dbfs\\' prefix\\n        \\n        # Save the file in DBFS\\n        pdf_filename = os.path.join(save_dir, f\"{file_id}.pdf\")\\n        \\n        with open(f\"/dbfs{pdf_filename}\", \\'wb\\') as pdf_file:  # \\'/dbfs\\' prefix here is needed\\n            for chunk in response.iter_content(chunk_size=1024):\\n                if chunk:  # Filter out keep-alive chunks\\n                    pdf_file.write(chunk)\\n        \\n        print(f\"Downloaded {pdf_filename} to DBFS\")\\n    else:\\n        print(f\"Error downloading PDF file {file_id}: {response.status_code} - {response.text}\")\\n'"
      ]
     },
     "execution_count": 8,
     "metadata": {},
     "output_type": "execute_result"
    }
   ],
   "source": [
    "\n",
    "\n",
    "'''\n",
    "# Function to download PDF files to DBFS\n",
    "def download_pdf_to_dbfs(file_id, besluit_id, save_dir):\n",
    "    # Construct the final URL for downloading the file\n",
    "    file_url = f\"{besluiten_base_url}/{besluit_id}/bestanden/{file_id}\"\n",
    "    print(f\"Attempting to download from URL: {file_url}\")\n",
    "    \n",
    "    response = requests.get(file_url, stream=True)\n",
    "    \n",
    "    if response.status_code == 200:\n",
    "        # Ensure DBFS save directory exists\n",
    "        dbutils.fs.mkdirs(save_dir)  # No need for '/dbfs' prefix\n",
    "        \n",
    "        # Save the file in DBFS\n",
    "        pdf_filename = os.path.join(save_dir, f\"{file_id}.pdf\")\n",
    "        \n",
    "        with open(f\"/dbfs{pdf_filename}\", 'wb') as pdf_file:  # '/dbfs' prefix here is needed\n",
    "            for chunk in response.iter_content(chunk_size=1024):\n",
    "                if chunk:  # Filter out keep-alive chunks\n",
    "                    pdf_file.write(chunk)\n",
    "        \n",
    "        print(f\"Downloaded {pdf_filename} to DBFS\")\n",
    "    else:\n",
    "        print(f\"Error downloading PDF file {file_id}: {response.status_code} - {response.text}\")\n",
    "'''"
   ]
  },
  {
   "cell_type": "code",
   "execution_count": 0,
   "metadata": {
    "application/vnd.databricks.v1+cell": {
     "cellMetadata": {
      "byteLimit": 2048000,
      "rowLimit": 10000
     },
     "inputWidgets": {},
     "nuid": "426f77fe-c8b8-487b-b00c-25bc3999db80",
     "showTitle": false,
     "title": ""
    }
   },
   "outputs": [],
   "source": [
    "# Function to download PDF files to DBFS\n",
    "def download_pdf_to_dbfs(file_id, besluit_id, save_dir):\n",
    "    # Construct the final URL for downloading the file\n",
    "    file_url = f\"{besluiten_base_url}/{besluit_id}/bestanden/{file_id}\"\n",
    "    print(f\"Attempting to download from URL: {file_url}\")\n",
    "    \n",
    "    response = requests.get(file_url, stream=True)\n",
    "    \n",
    "    # Check if the response contains a PDF based on the headers\n",
    "    content_type = response.headers.get('Content-Type')\n",
    "    if content_type != 'application/pdf':\n",
    "        print(f\"Error: The file at {file_url} is not a PDF. Content-Type: {content_type}\")\n",
    "        return\n",
    "    \n",
    "    # Ensure that the directory exists\n",
    "    dbutils.fs.mkdirs(save_dir)  # No need for '/dbfs' prefix\n",
    "    \n",
    "    # Save the file in DBFS\n",
    "    pdf_filename = os.path.join(save_dir, f\"{file_id}.pdf\")\n",
    "    \n",
    "    with open(f\"/dbfs{pdf_filename}\", 'wb') as pdf_file:\n",
    "        for chunk in response.iter_content(chunk_size=1024):\n",
    "            if chunk:  # Filter out keep-alive chunks\n",
    "                pdf_file.write(chunk)\n",
    "    \n",
    "    # Verify if the file size is greater than 0 to ensure it was saved correctly\n",
    "    file_size = os.path.getsize(f\"/dbfs{pdf_filename}\")\n",
    "    if file_size > 0:\n",
    "        print(f\"Downloaded {pdf_filename} to DBFS ({file_size} bytes)\")\n",
    "    else:\n",
    "        print(f\"Error: {pdf_filename} was saved but the file size is 0 bytes.\")\n",
    "\n"
   ]
  },
  {
   "cell_type": "code",
   "execution_count": 0,
   "metadata": {
    "application/vnd.databricks.v1+cell": {
     "cellMetadata": {
      "byteLimit": 2048000,
      "rowLimit": 10000
     },
     "inputWidgets": {},
     "nuid": "4f4418bc-91e7-4dba-b212-101b87d9fc8f",
     "showTitle": false,
     "title": ""
    }
   },
   "outputs": [],
   "source": [
    "# Function to process besluit metadata and return relevant URLs and metadata\n",
    "def process_besluit_metadata(besluit_id):\n",
    "    besluit_metadata = {}\n",
    "    \n",
    "    # Fetch besluit files (PDFs)\n",
    "    besluit_files = fetch_besluit_files(besluit_id)\n",
    "    if besluit_files:\n",
    "        for file in besluit_files:\n",
    "            file_id = file.get(\"id\")\n",
    "            file_type = file.get(\"bestandssoort\", {}).get(\"soort\", \"\")\n",
    "            file_url = f\"{besluiten_base_url}/{besluit_id}/bestanden/{file_id}\"\n",
    "            \n",
    "            if file_type == \"Besluit\":  # Only consider files of type 'Besluit'\n",
    "                besluit_metadata['besluit_pdf_url'] = file_url\n",
    "                besluit_metadata['pdf_file_id'] = file_id\n",
    "\n",
    "    # Add besluit URL and ID\n",
    "    besluit_metadata['besluit_url'] = f\"{besluiten_base_url}/{besluit_id}\"\n",
    "    besluit_metadata['besluit_id'] = besluit_id\n",
    "    \n",
    "    return besluit_metadata\n"
   ]
  },
  {
   "cell_type": "code",
   "execution_count": 0,
   "metadata": {
    "application/vnd.databricks.v1+cell": {
     "cellMetadata": {
      "byteLimit": 2048000,
      "rowLimit": 10000
     },
     "inputWidgets": {},
     "nuid": "b69239cf-04ba-44c5-baf2-671cf803a7f4",
     "showTitle": false,
     "title": ""
    }
   },
   "outputs": [],
   "source": [
    "def process_aanduidingsobjecten(tekst_search, num_items, save_dir):\n",
    "    # Step 1: Search for objects\n",
    "    search_results = search_aanduidingsobjecten(tekst_search, limit=num_items)\n",
    "    \n",
    "    all_metadata = []  # List to store all metadata\n",
    "    \n",
    "    if search_results:\n",
    "        # Handle both list and dict types for search_results\n",
    "        objects = search_results if isinstance(search_results, list) else search_results.get('items', [])\n",
    "        \n",
    "        # Iterate through the results and fetch details for each object\n",
    "        for obj in objects:\n",
    "            obj_id = obj.get('id')\n",
    "            print(f\"Processing object {obj_id}\")\n",
    "            obj_url = f\"{base_url}/aanduidingsobjecten/{obj_id}\"\n",
    "            \n",
    "            # Step 2: Get detailed info using the object ID\n",
    "            obj_details = get_aanduidingsobjecten_details(obj_id)\n",
    "            \n",
    "            if obj_details:\n",
    "                # Extract location and relevant metadata\n",
    "                object_metadata = {\n",
    "                    \"aanduidingsobject_url\": obj_url,\n",
    "                    \"object_id\": obj_id,\n",
    "                    \"location\": obj_details.get(\"locatie_samenvatting\", \"N/A\"),  # Location summary\n",
    "                    \"besluiten\": []\n",
    "                }\n",
    "                \n",
    "                # Step 3: Extract 'besluiten' (decisions) from the object details\n",
    "                relevant_besluiten = obj_details.get(\"besluiten\", [])\n",
    "                \n",
    "                for besluit in relevant_besluiten:\n",
    "                    besluit_id = besluit.get(\"id\")\n",
    "                    besluit_date = besluit.get(\"datum_ondertekening\", \"N/A\")  # Extract the signing date\n",
    "                    \n",
    "                    print(f\"Fetching besluit ID {besluit_id}\")\n",
    "                    \n",
    "                    # Step 4: Process besluit metadata\n",
    "                    besluit_metadata = process_besluit_metadata(besluit_id)\n",
    "                    besluit_metadata['besluit_date'] = besluit_date\n",
    "                    object_metadata[\"besluiten\"].append(besluit_metadata)\n",
    "                    \n",
    "                    # Step 5: Fetch the files for each besluit\n",
    "                    besluit_files = fetch_besluit_files(besluit_id)\n",
    "                    \n",
    "                    if besluit_files:\n",
    "                        for file in besluit_files:\n",
    "                            file_id = file.get(\"id\")\n",
    "                            file_type = file.get(\"bestandssoort\", {}).get(\"soort\", \"\")\n",
    "                            \n",
    "                            if file_type == \"Besluit\":  # Only download files of type \"Besluit\"\n",
    "                                print(f\"Downloading PDF file ID {file_id} for besluit {besluit_id}\")\n",
    "                                download_pdf_to_dbfs(file_id, besluit_id, save_dir)\n",
    "                \n",
    "                # Add object metadata to all_metadata\n",
    "                all_metadata.append(object_metadata)\n",
    "    \n",
    "    else:\n",
    "        print(\"No search results found.\")\n",
    "    \n",
    "    # Step 6: Save all metadata as a JSON file\n",
    "    if all_metadata:\n",
    "        json_output_file = os.path.join(save_dir, \"metadata.json\")\n",
    "        with open(f\"/dbfs{json_output_file}\", 'w', encoding='utf-8') as json_file:\n",
    "            json.dump(all_metadata, json_file, ensure_ascii=False, indent=4)\n",
    "            print(all_metadata)\n",
    "        \n",
    "        print(f\"Metadata saved to {json_output_file}\")\n",
    "    else:\n",
    "        print(\"No metadata to save.\")\n"
   ]
  },
  {
   "cell_type": "code",
   "execution_count": 0,
   "metadata": {
    "application/vnd.databricks.v1+cell": {
     "cellMetadata": {
      "byteLimit": 2048000,
      "rowLimit": 10000
     },
     "inputWidgets": {},
     "nuid": "a22fb987-f995-45a2-bb3b-31c1fabdb90e",
     "showTitle": false,
     "title": ""
    }
   },
   "outputs": [
    {
     "output_type": "stream",
     "name": "stdout",
     "output_type": "stream",
     "text": [
      "Processing object 169894\nFetching besluit ID 15115\nDownloading PDF file ID 35765 for besluit 15115\nAttempting to download from URL: https://besluiten.onroerenderfgoed.be/besluiten/15115/bestanden/35765\nDownloaded /dbfs/FileStore/ABB_pdf/35765.pdf to DBFS (227628 bytes)\nProcessing object 113499\nFetching besluit ID 14789\nDownloading PDF file ID 26258 for besluit 14789\nAttempting to download from URL: https://besluiten.onroerenderfgoed.be/besluiten/14789/bestanden/26258\nDownloaded /dbfs/FileStore/ABB_pdf/26258.pdf to DBFS (320999 bytes)\nProcessing object 171222\nFetching besluit ID 15115\nDownloading PDF file ID 35765 for besluit 15115\nAttempting to download from URL: https://besluiten.onroerenderfgoed.be/besluiten/15115/bestanden/35765\nDownloaded /dbfs/FileStore/ABB_pdf/35765.pdf to DBFS (227628 bytes)\nProcessing object 27977\nFetching besluit ID 5825\nDownloading PDF file ID 16110 for besluit 5825\nAttempting to download from URL: https://besluiten.onroerenderfgoed.be/besluiten/5825/bestanden/16110\nDownloaded /dbfs/FileStore/ABB_pdf/16110.pdf to DBFS (8699940 bytes)\nProcessing object 152836\nFetching besluit ID 15115\nDownloading PDF file ID 35765 for besluit 15115\nAttempting to download from URL: https://besluiten.onroerenderfgoed.be/besluiten/15115/bestanden/35765\nDownloaded /dbfs/FileStore/ABB_pdf/35765.pdf to DBFS (227628 bytes)\nProcessing object 113448\nFetching besluit ID 14743\nDownloading PDF file ID 21145 for besluit 14743\nAttempting to download from URL: https://besluiten.onroerenderfgoed.be/besluiten/14743/bestanden/21145\nDownloaded /dbfs/FileStore/ABB_pdf/21145.pdf to DBFS (3313048 bytes)\nProcessing object 166413\nFetching besluit ID 15115\nDownloading PDF file ID 35765 for besluit 15115\nAttempting to download from URL: https://besluiten.onroerenderfgoed.be/besluiten/15115/bestanden/35765\nDownloaded /dbfs/FileStore/ABB_pdf/35765.pdf to DBFS (227628 bytes)\nProcessing object 6026\nFetching besluit ID 4552\nDownloading PDF file ID 11383 for besluit 4552\nAttempting to download from URL: https://besluiten.onroerenderfgoed.be/besluiten/4552/bestanden/11383\nDownloaded /dbfs/FileStore/ABB_pdf/11383.pdf to DBFS (557291 bytes)\nProcessing object 170796\nFetching besluit ID 15115\nDownloading PDF file ID 35765 for besluit 15115\nAttempting to download from URL: https://besluiten.onroerenderfgoed.be/besluiten/15115/bestanden/35765\nDownloaded /dbfs/FileStore/ABB_pdf/35765.pdf to DBFS (227628 bytes)\nProcessing object 4665\nFetching besluit ID 2942\nDownloading PDF file ID 8157 for besluit 2942\nAttempting to download from URL: https://besluiten.onroerenderfgoed.be/besluiten/2942/bestanden/8157\nDownloaded /dbfs/FileStore/ABB_pdf/8157.pdf to DBFS (191379 bytes)\n[{'aanduidingsobject_url': 'https://inventaris.onroerenderfgoed.be/aanduidingsobjecten/169894', 'object_id': 169894, 'location': 'Forestier Ingelramstraat 3 (Harelbeke)', 'besluiten': [{'besluit_pdf_url': 'https://besluiten.onroerenderfgoed.be/besluiten/15115/bestanden/35765', 'pdf_file_id': 35765, 'besluit_url': 'https://besluiten.onroerenderfgoed.be/besluiten/15115', 'besluit_id': 15115, 'besluit_date': '2024-04-26'}]}, {'aanduidingsobject_url': 'https://inventaris.onroerenderfgoed.be/aanduidingsobjecten/113499', 'object_id': 113499, 'location': 'Kleine Gentstraat 44 (Gent)', 'besluiten': [{'besluit_pdf_url': 'https://besluiten.onroerenderfgoed.be/besluiten/14789/bestanden/26258', 'pdf_file_id': 26258, 'besluit_url': 'https://besluiten.onroerenderfgoed.be/besluiten/14789', 'besluit_id': 14789, 'besluit_date': '2019-03-15'}]}, {'aanduidingsobject_url': 'https://inventaris.onroerenderfgoed.be/aanduidingsobjecten/171222', 'object_id': 171222, 'location': 'Grote Heerweg 90 (Waregem)', 'besluiten': [{'besluit_pdf_url': 'https://besluiten.onroerenderfgoed.be/besluiten/15115/bestanden/35765', 'pdf_file_id': 35765, 'besluit_url': 'https://besluiten.onroerenderfgoed.be/besluiten/15115', 'besluit_id': 15115, 'besluit_date': '2024-04-26'}]}, {'aanduidingsobject_url': 'https://inventaris.onroerenderfgoed.be/aanduidingsobjecten/27977', 'object_id': 27977, 'location': 'Forestier Ingelramstraat 3 (Harelbeke)', 'besluiten': [{'besluit_pdf_url': 'https://besluiten.onroerenderfgoed.be/besluiten/5825/bestanden/16110', 'pdf_file_id': 16110, 'besluit_url': 'https://besluiten.onroerenderfgoed.be/besluiten/5825', 'besluit_id': 5825, 'besluit_date': '2014-11-28'}]}, {'aanduidingsobject_url': 'https://inventaris.onroerenderfgoed.be/aanduidingsobjecten/152836', 'object_id': 152836, 'location': 'Magdalenastraat 13 (Wervik)', 'besluiten': [{'besluit_pdf_url': 'https://besluiten.onroerenderfgoed.be/besluiten/15115/bestanden/35765', 'pdf_file_id': 35765, 'besluit_url': 'https://besluiten.onroerenderfgoed.be/besluiten/15115', 'besluit_id': 15115, 'besluit_date': '2024-04-26'}]}, {'aanduidingsobject_url': 'https://inventaris.onroerenderfgoed.be/aanduidingsobjecten/113448', 'object_id': 113448, 'location': 'Gérard Willemotlaan 85 (Gent)', 'besluiten': [{'besluit_pdf_url': 'https://besluiten.onroerenderfgoed.be/besluiten/14743/bestanden/21145', 'pdf_file_id': 21145, 'besluit_url': 'https://besluiten.onroerenderfgoed.be/besluiten/14743', 'besluit_id': 14743, 'besluit_date': '2018-12-20'}]}, {'aanduidingsobject_url': 'https://inventaris.onroerenderfgoed.be/aanduidingsobjecten/166413', 'object_id': 166413, 'location': 'Sint-Michielstraat 53 (Tielt)', 'besluiten': [{'besluit_pdf_url': 'https://besluiten.onroerenderfgoed.be/besluiten/15115/bestanden/35765', 'pdf_file_id': 35765, 'besluit_url': 'https://besluiten.onroerenderfgoed.be/besluiten/15115', 'besluit_id': 15115, 'besluit_date': '2024-04-26'}]}, {'aanduidingsobject_url': 'https://inventaris.onroerenderfgoed.be/aanduidingsobjecten/6026', 'object_id': 6026, 'location': 'Klein-Begijnhofbogaard 6 (Mechelen)', 'besluiten': [{'besluit_pdf_url': 'https://besluiten.onroerenderfgoed.be/besluiten/4552/bestanden/11383', 'pdf_file_id': 11383, 'besluit_url': 'https://besluiten.onroerenderfgoed.be/besluiten/4552', 'besluit_id': 4552, 'besluit_date': '2008-11-07'}]}, {'aanduidingsobject_url': 'https://inventaris.onroerenderfgoed.be/aanduidingsobjecten/170796', 'object_id': 170796, 'location': 'Gentse Heerweg 16-18 (Waregem)', 'besluiten': [{'besluit_pdf_url': 'https://besluiten.onroerenderfgoed.be/besluiten/15115/bestanden/35765', 'pdf_file_id': 35765, 'besluit_url': 'https://besluiten.onroerenderfgoed.be/besluiten/15115', 'besluit_id': 15115, 'besluit_date': '2024-04-26'}]}, {'aanduidingsobject_url': 'https://inventaris.onroerenderfgoed.be/aanduidingsobjecten/4665', 'object_id': 4665, 'location': 'Baron Opsomerlaan 44 (Lier)', 'besluiten': [{'besluit_pdf_url': 'https://besluiten.onroerenderfgoed.be/besluiten/2942/bestanden/8157', 'pdf_file_id': 8157, 'besluit_url': 'https://besluiten.onroerenderfgoed.be/besluiten/2942', 'besluit_id': 2942, 'besluit_date': '1995-10-24'}]}]\nMetadata saved to /dbfs/FileStore/ABB_pdf/metadata.json\n"
     ]
    }
   ],
   "source": [
    "process_aanduidingsobjecten(tekst_search=\"Architectenwoning\", num_items=5, save_dir=dbfs_save_dir)\n"
   ]
  },
  {
   "cell_type": "code",
   "execution_count": 0,
   "metadata": {
    "application/vnd.databricks.v1+cell": {
     "cellMetadata": {
      "byteLimit": 2048000,
      "rowLimit": 10000
     },
     "inputWidgets": {},
     "nuid": "52f192e5-1a2d-44cd-8cbd-5584ff77abca",
     "showTitle": false,
     "title": ""
    }
   },
   "outputs": [
    {
     "output_type": "stream",
     "name": "stdout",
     "output_type": "stream",
     "text": [
      "{'id': 113448, 'naam': 'Architectenwoning van Ferdinand Schlich', 'status': {'actief': True, 'verantwoordelijken': [], 'id': 665574, 'status': {'id': 75, 'naam': 'Actief'}, 'opmerkingen': None, 'datum': '2020-06-22T08:08:32.093182+02:00', 'aanpasser': {'uri': 'https://id.erfgoed.net/actoren/1203', 'omschrijving': 'Verhelst, Julie'}}, 'geldigheid_opmerkingen': None, 'type': {'id': 1, 'naam': 'Beschermd monument', 'uri': 'https://id.erfgoed.net/thesauri/aanduidingstypes/1'}, 'korte_beschrijving': 'Deze bescherming betreft de architectenwoning van Ferdinand Schlich.', 'besluiten': [{'uri': 'https://id.erfgoed.net/besluiten/14743', 'rechtsgevolgen': [{'uri': 'https://id.erfgoed.net/thesauri/besluittypes/13', 'label': 'definitieve beschermingsbesluiten'}], 'onderwerp': 'Architectenwoning Ferdinand Schlich', 'datum_ondertekening': '2018-12-20', 'status': {'id': 75, 'status': 'Actief'}, 'id': 14743}], 'waarden': [{'id': 108757, 'algemeen': False, 'uiteenzetting': '<p>De woning wordt beschouwd als het meesterwerk van architect Ferdinand Schlich (Gent, 1949), die een kwalitatief maar klein oeuvre realiseerde, voornamelijk in de regio van Gent. Aangezien de woning sinds de oplevering in 1988 amper wijzigingen onderging, vertoont het gebouw nog een hele hoge herkenbaarheid. <br />\\nOpgeleid als bouwkundig tekenaar en architect aan het Gents Hoger Architectuurinstituut Sint-Lucas eind jaren 1960 en begin jaren 1970, gaf Schlich zelf meer dan 30 jaar lang les aan dit instituut. Tijdens zijn opleiding werd hij aanvankelijk beïnvloed door het structuralisme (en met name door de vrijheid en de menselijke maat die door de aanhangers van deze stroming werden gepropageerd) en nadien door Juliaan Lampens die hij zijn leermeester noemt en van wie hij het belang van monumentaliteit en eenvoud overnam, evenals een voorliefde voor de meesters van het modernisme (Mies Van der Rohe en Le Corbusier). Een belangrijke inspiratiebron voor Schlich was ook Frank Lloyd Wright en in het bijzonder diens prairiehuizen: het integreren van een gebouw in zijn omgeving, daken op verschillende hoogte, een vierkante opbouw en asymmetrisch grondplan, een gevarieerde ruimtewerking en gebruik van opvallend houten schrijnwerk, lage buitenmuren en metselwerk. Ook bij zijn eigen woning is die invloed onmiskenbaar aanwezig. Daarnaast verraadt die woning de invloed van de Duitse architect Heinrich Tessenow, met name in het belang van eenvoud en proporties, en van het stijlloze traditionele bouwen van ‘het volk’, mogelijk ook onder invloed van Bernard Rudowski’s reizende tentoonstelling Architecture without architects (1964-1975).  <br />\\nOndanks de diversiteit van Schlichs oeuvre vertoont het enkele gemeenschappelijke kenmerken die ook aanwezig zijn in de architectenwoning, wat deze laatste een zekere representativiteit verleent. Een eerste is de aandacht voor ambachtelijke afwerking en detaillering, bijvoorbeeld in de uitwerking van het atelierraam en de ateliertrap maar ook van meer prozaïsche elementen zoals de gietijzeren radiatoren. Die detaillering stond bij Schlich wel steeds ten dienste van een duidelijk herkenbaar geheel wat hij bij zijn eigen woning vond in de toepassing van een langgerekt volume. Hiervoor haalde hij inspiratie bij eenvoudige adobe huizen in Turkije en Nubië (Zuid-Egypte) maar ook bij Vlaamse hoeves en bij de rivierboten die hij traag zag voorbijschuiven vanop zijn bouwgrond aan de Brugse Vaart. Die laatste inspiratiebron verwijst ook naar het belang dat Schlich hechtte aan de integratie van zijn gebouwen in hun omgeving, in het landschap. Het principe van de gevarieerde ruimtewerking, een ander weerkerend kenmerk, paste hij bij zijn eigen woning toe door met een aantal centrale muren en schuifdeuren ruimtes van verschillende grootte af te bakenen, en door de vensters van de woonkamer aan de achtergevel ter hoogte van de keuken en de badkamer te laten doorlopen waardoor deze woonkamer nog groter lijkt dan ze eigenlijk is. Ook het selectief toepassen van verlaagde plafonds sluit aan bij deze zoektocht naar ruimtelijke diversiteit. Een laatste weerkerende aandachtspunt in Schlichs oeuvre is zijn respect voor het budget van de opdrachtgever. Voor zijn eigen woning stelde hij een onwaarschijnlijk laag budget voorop dat bij realisatie slechts in heel beperkte mate overschreden werd. De belangrijkste kostenbesparende elementen waren volgens Schlich de sterke, op zichzelf staande vorm die geen opsmuk vroeg, het gebruik van een plat dak, een redocrete (garage)vloer en een ruwbouw in cellenbeton (die een spouw overbodig maakt), het prioritair inzetten op woonkwaliteit (licht, ruimte, geborgenheid en technisch comfort) ten koste van de afwerking (die later zou volgen) en zoveel mogelijk zelfbouw. <br />\\nOmdat de woning met zo’n laag budget en zo snel gerealiseerd was, kreeg ze heel wat belangstelling in de populaire pers. Maar ook in architectuurkringen werd de waarde snel erkend, zoals blijkt uit de opname ervan in verscheidene publicaties en uit de toekenning van de Architectuurprijs van de provincie Oost-Vlaanderen in 1993. De jury van deze prijs loofde met name de ruimte-indeling en de organisatie en oriëntatie van de verschillende kamers onderling. Volgens Schlich zelf lag de waarde van de woning in de eenvoud van de oplossing waartoe hij uiteindelijk was gekomen: twee evenwijdige muren op de juiste, meest economische afstand van elkaar. Om tot die eenvoud te komen had hij naar eigen zeggen pas dan de nodige maturiteit bereikt als architect.  <br />\\nDe woning Schlich is ook een waardevol voorbeeld van het type architectenwoning, met name uit het laatste kwart van de 20ste eeuw. Schlich zag zijn eigen woning duidelijk als een gebouwd manifest, een opvoedend-didactisch instrument, zowel voor zijn studenten architectuur aan het Hoger Architectuurinstituut Sint-Lucas, als voor het ruime publiek dat zelf wilde bouwen. Dit blijkt uit het feit dat hij zijn woning openstelde voor heel wat bezoekers en ook voor de populaire pers. Met deze woning wou hij aantonen dat goedkoop en betekenisvol bouwen konden samengaan, zoals ook blijkt uit het manifest dat bewaard bleef in het archiefdossier van deze woning. Deze betrachting vertaalde zich in een vrij vroege toepassing van enkele architecturale kenmerken die heden vrij algemeen toegepast worden, zowel qua vormgeving (minimalisme), planopbouw (open) en materiaalgebruik (cellenbeton en redocrete vloer). Tegelijkertijd plaatst deze woning ook een belangrijke kanttekening bij de opvatting dat de waarde van een architectenwoning vooral gelegen is in het feit dat de ontwerper daar zonder compromissen zijn persoonlijke ideeën in realiteit zou kunnen omzetten. Hoe compromisloos de woning van Ferdinand Schlich op het eerste zicht ook lijkt, ze is het resultaat geweest van heel wat toegevingen die ingegeven werden door het beperkte budget, de omgeving en de omwonenden. Dergelijke compromissen betekenen geen aantasting van de erfgoedwaarde maar getuigen juist van een gevoeligheid voor de context in de ruime betekenis van het woord, en dus van de architecturale waarde.</p>', 'waardetypes': [{'id': 578852, 'uri': 'https://id.erfgoed.net/thesauri/waardetypes/39', 'label': 'architecturale waarde'}]}, {'id': 108756, 'algemeen': True, 'uiteenzetting': '<p>De architectenwoning van Ferdinand Schlich is beschermd als monument omwille van het algemeen belang gevormd door de:</p>', 'waardetypes': []}], 'locatie_samenvatting': 'Gérard Willemotlaan 85 (Gent)', 'current_state': 75, 'bijlagen': [], 'kenmerkgroepen': [{'id': 241176, 'naam': 'Kenmerkgroep 1', 'alle_kenmerkgroepen': False, 'motivaties': [], 'relaties': [{'self': 'https://inventaris.onroerenderfgoed.be/personen/11760', 'verwant_status': {'naam': 'Actief', 'id': 75}, 'omschrijving': 'Schlich, Ferdinand', 'verwant': {'id': 1, 'naam': 'personen'}, 'uri': 'https://id.erfgoed.net/personen/11760', 'relatietype': {'id': 28, 'naam': 'Ontwerper'}}, {'self': 'https://inventaris.onroerenderfgoed.be/personen/11760', 'verwant_status': {'naam': 'Actief', 'id': 75}, 'omschrijving': 'Schlich, Ferdinand', 'verwant': {'id': 1, 'naam': 'personen'}, 'uri': 'https://id.erfgoed.net/personen/11760', 'relatietype': {'id': 29, 'naam': 'Opdrachtgever'}}, {'locatie_samenvatting': 'Afsnee, Drongen, Gent, Gentbrugge, Ledeberg, Oostakker, Sint-Amandsberg, Sint-Denijs-Westrem, Wondelgem, Zwijnaarde (Gent)', 'gebeurtenistypes': [{'gebeurtenistype': 'thematische inventarisatie', 'uri': 'https://id.erfgoed.net/thesauri/gebeurtenistypes/64'}, {'gebeurtenistype': 'geografische inventarisatie', 'uri': 'https://id.erfgoed.net/thesauri/gebeurtenistypes/63'}], 'datum': {'periode': True, 'startdatum': {'omschrijving': '2015-01-01', 'granulariteit': {'id': 1, 'naam': 'Dag'}}, 'einddatum': {'omschrijving': '2019-10-31', 'granulariteit': {'id': 1, 'naam': 'Dag'}}}, 'self': 'https://inventaris.onroerenderfgoed.be/gebeurtenissen/1160', 'verwant_status': {'naam': 'Actief', 'id': 75}, 'omschrijving': 'Herinventarisatie Gent 20ste-eeuwse architectuur', 'verwant': {'id': 3, 'naam': 'gebeurtenissen'}, 'uri': 'https://id.erfgoed.net/gebeurtenissen/1160'}], 'thesaurus': [{'id': 525623, 'uri': 'https://id.erfgoed.net/thesauri/erfgoedtypes/32', 'label': 'architectenwoningen', 'kenmerk': {'id': 3, 'naam': 'typologie'}}, {'id': 525624, 'uri': 'https://id.erfgoed.net/thesauri/dateringen/1074', 'label': 'vierde kwart 20ste eeuw', 'kenmerk': {'id': 8, 'naam': 'datering'}}], 'afmetingen': []}], 'geldigheid_start': '2018-12-20', 'geldigheid_einde': None, 'alternatieve_namen': [], 'beschermingen': ['4.001/44021/137.1', '4.01/44021/1458.1'], 'teksten': [{'id': 298504, 'teksttype': {'id': 1, 'naam': 'Basistekst'}, 'titel': 'Architectenwoning van Ferdinand Schlich', 'tekst': '<p>Deze bescherming betreft de architectenwoning van Ferdinand Schlich.</p>', 'eigenaars': [{'uri': 'https://id.erfgoed.net/auteurs/501', 'tekst_id': 298504, 'id': 501, 'type': {'id': 2, 'naam': 'Organisatie'}, 'omschrijving': 'Agentschap Onroerend Erfgoed (AOE)'}], 'datum': {'omschrijving': '2018-12-21', 'granulariteit': {'id': 1, 'naam': 'Dag'}}, 'bronnen': [], 'auteurs': [], 'primair': True, 'relatie_id': 117203}], 'relaties': [{'primaire_foto': 'https://id.erfgoed.net/afbeeldingen/283164', 'relatie_id': 306239, 'korte_beschrijving': 'De architectenwoning dateert uit 1986-1988 en wordt beschouwd als het meesterwerk van Ferdinand Schlich, die een kwalitatief maar klein, en dus zeldzaam, oeuvre realiseerde, voornamelijk in de regio van Gent. Aangezien de woning sinds de oplevering in 1988 amper enige wijzigingen onderging, vertoont het gebouw nog een hele hoge herkenbaarheid.', 'locatie_samenvatting': 'Gérard Willemotlaan 85 (Gent)', 'self': 'https://inventaris.onroerenderfgoed.be/erfgoedobjecten/306239', 'verwant_status': {'naam': 'Actief', 'id': 75}, 'omschrijving': 'Architectenwoning van Ferdinand Schlich', 'verwant': {'id': 4, 'naam': 'erfgoedobjecten'}, 'uri': 'https://id.erfgoed.net/erfgoedobjecten/306239', 'relatietype': {'id': 15, 'naam': 'Is de aanduiding van'}}], 'locatie': {'elementen': [{'id': 325039, 'type': 'https://id.erfgoed.net/vocab/ontology#LocatieElementAdres', 'adres': {'id': None, 'uri': None, 'huisnummer': '85', 'busnummer': None}, 'provincie': {'niscode': '40000', 'naam': 'Oost-Vlaanderen'}, 'gemeente': {'niscode': '44021', 'naam': 'Gent'}, 'deelgemeente': {'niscode': '44021L', 'naam': 'Mariakerke'}, 'straat': {'id': '70177', 'naam': 'Gérard Willemotlaan', 'uri': 'https://data.vlaanderen.be/id/straatnaam/70177'}, 'postcode': {'nummer': None, 'uri': None}, 'land': {'code': 'BE', 'naam': 'België'}}], 'gemeenten': ['Gent'], 'provincies': ['Oost-Vlaanderen'], 'gemeenten_niscodes': ['44021'], 'provincies_niscodes': ['40000'], 'omschrijving': 'Gérard Willemotlaan 85 (Gent)', 'provincie': 'Oost-Vlaanderen', 'gemeente': 'Gent', 'deelgemeente': 'Mariakerke', 'straat': 'Gérard Willemotlaan', 'contour': {'type': 'MultiPolygon', 'coordinates': [[[[101985.34705, 196251.683914], [102002.340074, 196237.56193], [102020.192106, 196222.725962], [102015.40113, 196217.107402], [102007.641898, 196208.00801], [102007.35857, 196209.653962], [101986.36657, 196205.403978], [101979.363114, 196244.401994], [101979.703722, 196244.12705], [101985.235946, 196251.535114], [101985.34705, 196251.683914]]]], 'crs': {'type': 'name', 'properties': {'name': 'urn:ogc:def:crs:EPSG::31370'}}}, 'nauwkeurigheid': {'id': 1, 'naam': 'Tot op 15m'}, 'oppervlakte': 1054}, 'uri': 'https://id.erfgoed.net/aanduidingsobjecten/113448', 'self': 'https://inventaris.onroerenderfgoed.be/aanduidingsobjecten/113448', 'systemfields': {'activated_at': '2018-12-21T14:51:04+01:00', 'activated_by': {'uri': 'https://id.erfgoed.net/actoren/2299', 'description': 'Marchand, Sofie'}, 'created_by': {'uri': 'https://id.erfgoed.net/actoren/2299', 'description': 'Marchand, Sofie'}, 'updated_by': {'uri': 'https://id.erfgoed.net/actoren/1203', 'description': 'Verhelst, Julie'}, 'created_at': '2018-12-21T14:44:03+01:00', 'updated_at': '2020-06-22T08:08:32.423411+02:00'}, 'toelatingsplichtige_handelingen': [], 'statussen': [{'actief': True, 'verantwoordelijken': [], 'id': 665574, 'status': {'id': 75, 'naam': 'Actief'}, 'opmerkingen': None, 'datum': '2020-06-22T08:08:32.093182+02:00', 'aanpasser': {'uri': 'https://id.erfgoed.net/actoren/1203', 'omschrijving': 'Verhelst, Julie'}}, {'actief': True, 'verantwoordelijken': [], 'id': 438991, 'status': {'id': 75, 'naam': 'Actief'}, 'opmerkingen': 'Activeren record. Deze informatie werd aangemaakt tijdens het migratiescript', 'datum': '2018-12-21T14:51:04+01:00', 'aanpasser': {'uri': 'https://id.erfgoed.net/actoren/2299', 'omschrijving': 'Marchand, Sofie'}}, {'actief': False, 'verantwoordelijken': [], 'id': 438990, 'status': {'id': 10, 'naam': 'Klad'}, 'opmerkingen': 'Aanmaken record. Deze informatie werd aangemaakt tijdens het migratiescript', 'datum': '2018-12-21T14:44:03+01:00', 'aanpasser': {'uri': 'https://id.erfgoed.net/actoren/2299', 'omschrijving': 'Marchand, Sofie'}}], 'dataverantwoordelijke': {'uri': 'https://id.erfgoed.net/actoren/501', 'omschrijving': 'Agentschap Onroerend Erfgoed'}}\n"
     ]
    }
   ],
   "source": [
    "'''\n",
    "import requests\n",
    "\n",
    "url = \"https://inventaris.onroerenderfgoed.be/aanduidingsobjecten/113448\"\n",
    "headers = {\n",
    "    \"Accept\": \"application/json\"\n",
    "}\n",
    "\n",
    "response = requests.get(url, headers=headers)\n",
    "\n",
    "if response.status_code == 200:\n",
    "    data = response.json()  # Convert the response to JSON\n",
    "    print(data)  # Print or inspect the JSON data\n",
    "else:\n",
    "    print(f\"Failed to retrieve data. Status code: {response.status_code}\")\n",
    "'''"
   ]
  },
  {
   "cell_type": "code",
   "execution_count": 0,
   "metadata": {
    "application/vnd.databricks.v1+cell": {
     "cellMetadata": {},
     "inputWidgets": {},
     "nuid": "92df95be-d151-4432-8f9f-794a641d742e",
     "showTitle": false,
     "title": ""
    }
   },
   "outputs": [],
   "source": []
  }
 ],
 "metadata": {
  "application/vnd.databricks.v1+notebook": {
   "dashboards": [],
   "environmentMetadata": {
    "base_environment": "",
    "client": "1"
   },
   "language": "python",
   "notebookMetadata": {
    "pythonIndentUnit": 4
   },
   "notebookName": "ABB_Extraction of pdfs and metadata",
   "widgets": {}
  }
 },
 "nbformat": 4,
 "nbformat_minor": 0
}
