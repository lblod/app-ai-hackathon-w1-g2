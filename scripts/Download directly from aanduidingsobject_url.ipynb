{
 "cells": [
  {
   "cell_type": "code",
   "execution_count": 0,
   "metadata": {
    "application/vnd.databricks.v1+cell": {
     "cellMetadata": {
      "byteLimit": 2048000,
      "rowLimit": 10000
     },
     "inputWidgets": {},
     "nuid": "f2bd662e-2420-41e9-8612-93dfe9127dd3",
     "showTitle": false,
     "title": ""
    }
   },
   "outputs": [],
   "source": [
    "import requests\n",
    "import os\n",
    "import json\n"
   ]
  },
  {
   "cell_type": "code",
   "execution_count": 0,
   "metadata": {
    "application/vnd.databricks.v1+cell": {
     "cellMetadata": {
      "byteLimit": 2048000,
      "rowLimit": 10000
     },
     "inputWidgets": {},
     "nuid": "a7d722b5-d65b-431f-9cc0-09143250729a",
     "showTitle": false,
     "title": ""
    }
   },
   "outputs": [],
   "source": [
    "\n",
    "# Base URLs for API requests\n",
    "besluiten_base_url = \"https://besluiten.onroerenderfgoed.be/besluiten\"\n",
    "\n",
    "# DBFS directory where files will be stored\n",
    "dbfs_save_dir = \"/FileStore/ABB_pdf/\"\n",
    "\n",
    "# Headers for JSON requests\n",
    "headers_json = {\n",
    "    \"Accept\": \"application/json\"\n",
    "}\n",
    "\n"
   ]
  },
  {
   "cell_type": "code",
   "execution_count": 0,
   "metadata": {
    "application/vnd.databricks.v1+cell": {
     "cellMetadata": {
      "byteLimit": 2048000,
      "rowLimit": 10000
     },
     "inputWidgets": {},
     "nuid": "662ee58b-73d1-4803-a7aa-9b25154e0edb",
     "showTitle": false,
     "title": ""
    }
   },
   "outputs": [],
   "source": [
    "# Function to get detailed information from the provided 'aanduidingsobjecten' URL\n",
    "def get_aanduidingsobjecten_details(aanduidingsobject_url):\n",
    "    response = requests.get(aanduidingsobject_url, headers=headers_json)\n",
    "    \n",
    "    if response.status_code == 200:\n",
    "        return response.json()\n",
    "    else:\n",
    "        print(f\"Error fetching details for {aanduidingsobject_url}: {response.status_code}\")\n",
    "        return None\n",
    "\n",
    "# Function to fetch the besluiten (decisions) for a specific besluit ID\n",
    "def fetch_besluit_files(besluit_id):\n",
    "    url = f\"{besluiten_base_url}/{besluit_id}/bestanden/\"\n",
    "    response = requests.get(url, headers=headers_json)\n",
    "    \n",
    "    if response.status_code == 200:\n",
    "        return response.json()  # Assuming JSON response with file metadata\n",
    "    else:\n",
    "        print(f\"Error fetching files for besluit {besluit_id}: {response.status_code}\")\n",
    "        return None\n",
    "\n"
   ]
  },
  {
   "cell_type": "code",
   "execution_count": 0,
   "metadata": {
    "application/vnd.databricks.v1+cell": {
     "cellMetadata": {
      "byteLimit": 2048000,
      "rowLimit": 10000
     },
     "inputWidgets": {},
     "nuid": "ffe5cbae-7530-4de2-a991-cc6f6b08b624",
     "showTitle": false,
     "title": ""
    }
   },
   "outputs": [],
   "source": [
    "# Function to download PDF files to DBFS\n",
    "def download_pdf_to_dbfs(file_id, besluit_id, save_dir):\n",
    "    # Construct the final URL for downloading the file\n",
    "    file_url = f\"{besluiten_base_url}/{besluit_id}/bestanden/{file_id}\"\n",
    "    print(f\"Attempting to download from URL: {file_url}\")\n",
    "    \n",
    "    response = requests.get(file_url, stream=True)\n",
    "    \n",
    "    if response.status_code == 200:\n",
    "        # Ensure DBFS save directory exists\n",
    "        dbutils.fs.mkdirs(save_dir)\n",
    "        \n",
    "        # Save the file in DBFS\n",
    "        pdf_filename = os.path.join(save_dir, f\"{file_id}.pdf\")\n",
    "        \n",
    "        with open(f\"/dbfs{pdf_filename}\", 'wb') as pdf_file:\n",
    "            for chunk in response.iter_content(chunk_size=1024):\n",
    "                if chunk:  # Filter out keep-alive chunks\n",
    "                    pdf_file.write(chunk)\n",
    "        \n",
    "        print(f\"Downloaded {pdf_filename} to DBFS\")\n",
    "    else:\n",
    "        print(f\"Error downloading PDF file {file_id}: {response.status_code} - {response.text}\")\n",
    "\n"
   ]
  },
  {
   "cell_type": "code",
   "execution_count": 0,
   "metadata": {
    "application/vnd.databricks.v1+cell": {
     "cellMetadata": {
      "byteLimit": 2048000,
      "rowLimit": 10000
     },
     "inputWidgets": {},
     "nuid": "e20c9997-ada9-4601-9c26-6598d040397c",
     "showTitle": false,
     "title": ""
    }
   },
   "outputs": [],
   "source": [
    "# Main function to process a given aanduidingsobject URL and download besluiten PDFs\n",
    "def process_aanduidingsobject_url(aanduidingsobject_url, save_dir):\n",
    "    # Step 1: Get detailed info from the given URL\n",
    "    obj_details = get_aanduidingsobjecten_details(aanduidingsobject_url)\n",
    "    \n",
    "    if obj_details:\n",
    "        # Extract location and relevant metadata\n",
    "        object_metadata = {\n",
    "            \"aanduidingsobject_url\": aanduidingsobject_url,\n",
    "            \"object_id\": obj_details.get(\"id\"),\n",
    "            \"location\": obj_details.get(\"locatie_samenvatting\", \"N/A\"),  # Location summary\n",
    "            \"besluiten\": []\n",
    "        }\n",
    "        \n",
    "        # Step 2: Extract 'besluiten' (decisions) from the object details\n",
    "        relevant_besluiten = obj_details.get(\"besluiten\", [])\n",
    "        \n",
    "        for besluit in relevant_besluiten:\n",
    "            besluit_id = besluit.get(\"id\")\n",
    "            besluit_date = besluit.get(\"datum_ondertekening\", \"N/A\")  # Extract the signing date\n",
    "            \n",
    "            print(f\"Fetching besluit ID {besluit_id}\")\n",
    "            \n",
    "            # Step 3: Fetch the files for each besluit\n",
    "            besluit_files = fetch_besluit_files(besluit_id)\n",
    "            \n",
    "            if besluit_files:\n",
    "                for file in besluit_files:\n",
    "                    file_id = file.get(\"id\")\n",
    "                    file_type = file.get(\"bestandssoort\", {}).get(\"soort\", \"\")\n",
    "                    \n",
    "                    if file_type == \"Besluit\":  # Only download files of type \"Besluit\"\n",
    "                        print(f\"Downloading PDF file ID {file_id} for besluit {besluit_id}\")\n",
    "                        download_pdf_to_dbfs(file_id, besluit_id, save_dir)\n",
    "                        \n",
    "                        # Add decision metadata for JSON\n",
    "                        besluit_metadata = {\n",
    "                            \"besluit_url\": f\"{besluiten_base_url}/{besluit_id}\",\n",
    "                            \"besluit_pdf_url\": f\"{besluiten_base_url}/{besluit_id}/bestanden/{file_id}\",\n",
    "                            \"besluit_id\": besluit_id,\n",
    "                            \"pdf_file_id\": file_id,\n",
    "                            \"besluit_date\": besluit_date\n",
    "                        }\n",
    "                        object_metadata[\"besluiten\"].append(besluit_metadata)\n",
    "        \n",
    "        # Step 4: Save metadata as a JSON file\n",
    "        #json_output_file = os.path.join(save_dir, \"metadata.json\")\n",
    "        json_output_file = os.path.join(save_dir, f\"metadata_{obj_details.get('id')}.json\")\n",
    "\n",
    "        with open(f\"/dbfs{json_output_file}\", 'w', encoding='utf-8') as json_file:\n",
    "            json.dump(object_metadata, json_file, ensure_ascii=False, indent=4)\n",
    "            print(object_metadata)\n",
    "        \n",
    "        print(f\"Metadata saved to {json_output_file}\")\n",
    "    else:\n",
    "        print(\"No valid object details found.\")\n",
    "\n"
   ]
  },
  {
   "cell_type": "code",
   "execution_count": 0,
   "metadata": {
    "application/vnd.databricks.v1+cell": {
     "cellMetadata": {
      "byteLimit": 2048000,
      "rowLimit": 10000
     },
     "inputWidgets": {},
     "nuid": "49daa56e-bf62-4393-ab14-83e7eb1e5cf4",
     "showTitle": false,
     "title": ""
    }
   },
   "outputs": [
    {
     "output_type": "stream",
     "name": "stdout",
     "output_type": "stream",
     "text": [
      "Fetching besluit ID 14743\nDownloading PDF file ID 21145 for besluit 14743\nAttempting to download from URL: https://besluiten.onroerenderfgoed.be/besluiten/14743/bestanden/21145\nDownloaded /FileStore/ABB_pdf/21145.pdf to DBFS\n{'aanduidingsobject_url': 'https://inventaris.onroerenderfgoed.be/aanduidingsobjecten/113448', 'object_id': 113448, 'location': 'Gérard Willemotlaan 85 (Gent)', 'besluiten': [{'besluit_url': 'https://besluiten.onroerenderfgoed.be/besluiten/14743', 'besluit_pdf_url': 'https://besluiten.onroerenderfgoed.be/besluiten/14743/bestanden/21145', 'besluit_id': 14743, 'pdf_file_id': 21145, 'besluit_date': '2018-12-20'}]}\nMetadata saved to /FileStore/ABB_pdf/metadata_113448.json\n"
     ]
    }
   ],
   "source": [
    "# Example usage:\n",
    "aanduidingsobject_url = \"https://inventaris.onroerenderfgoed.be/aanduidingsobjecten/113448\"\n",
    "process_aanduidingsobject_url(aanduidingsobject_url, dbfs_save_dir)\n"
   ]
  },
  {
   "cell_type": "code",
   "execution_count": 0,
   "metadata": {
    "application/vnd.databricks.v1+cell": {
     "cellMetadata": {},
     "inputWidgets": {},
     "nuid": "eb8603af-bd47-4d31-99d3-66bc8982a6f8",
     "showTitle": false,
     "title": ""
    }
   },
   "outputs": [],
   "source": []
  }
 ],
 "metadata": {
  "application/vnd.databricks.v1+notebook": {
   "dashboards": [],
   "environmentMetadata": null,
   "language": "python",
   "notebookMetadata": {
    "pythonIndentUnit": 4
   },
   "notebookName": "Download directly from aanduidingsobject_url",
   "widgets": {}
  }
 },
 "nbformat": 4,
 "nbformat_minor": 0
}
