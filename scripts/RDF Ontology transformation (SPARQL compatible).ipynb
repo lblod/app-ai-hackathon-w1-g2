{
 "cells": [
  {
   "cell_type": "code",
   "execution_count": 0,
   "metadata": {
    "application/vnd.databricks.v1+cell": {
     "cellMetadata": {
      "byteLimit": 2048000,
      "rowLimit": 10000
     },
     "inputWidgets": {},
     "nuid": "3424d616-66c6-42c4-9d74-443eac2c1798",
     "showTitle": false,
     "title": ""
    }
   },
   "outputs": [],
   "source": [
    "import json\n",
    "import pandas as pd\n",
    "\n"
   ]
  },
  {
   "cell_type": "code",
   "execution_count": 0,
   "metadata": {
    "application/vnd.databricks.v1+cell": {
     "cellMetadata": {
      "byteLimit": 2048000,
      "rowLimit": 10000
     },
     "inputWidgets": {},
     "nuid": "f3338fee-2e67-4f8d-8c93-69196761115a",
     "showTitle": false,
     "title": ""
    }
   },
   "outputs": [
    {
     "output_type": "stream",
     "name": "stdout",
     "output_type": "stream",
     "text": [
      "Requirement already satisfied: rdflib in /local_disk0/.ephemeral_nfs/envs/pythonEnv-a8e666ed-54e5-4f43-9082-c020b62af4bb/lib/python3.11/site-packages (7.0.0)\nRequirement already satisfied: isodate<0.7.0,>=0.6.0 in /databricks/python3/lib/python3.11/site-packages (from rdflib) (0.6.1)\nRequirement already satisfied: pyparsing<4,>=2.1.0 in /databricks/python3/lib/python3.11/site-packages (from rdflib) (3.0.9)\nRequirement already satisfied: six in /usr/lib/python3/dist-packages (from isodate<0.7.0,>=0.6.0->rdflib) (1.16.0)\n\u001B[43mNote: you may need to restart the kernel using %restart_python or dbutils.library.restartPython() to use updated packages.\u001B[0m\n"
     ]
    }
   ],
   "source": [
    "!pip install rdflib\n"
   ]
  },
  {
   "cell_type": "code",
   "execution_count": 0,
   "metadata": {
    "application/vnd.databricks.v1+cell": {
     "cellMetadata": {
      "byteLimit": 2048000,
      "rowLimit": 10000
     },
     "inputWidgets": {},
     "nuid": "8a221318-9b3a-4abe-a00e-2fc4a73b65f2",
     "showTitle": false,
     "title": ""
    }
   },
   "outputs": [],
   "source": [
    "from rdflib import Graph, URIRef, Literal, Namespace"
   ]
  },
  {
   "cell_type": "code",
   "execution_count": 0,
   "metadata": {
    "application/vnd.databricks.v1+cell": {
     "cellMetadata": {
      "byteLimit": 2048000,
      "rowLimit": 10000
     },
     "inputWidgets": {},
     "nuid": "ce20d468-e061-43a8-b7c0-e9a524e7bd33",
     "showTitle": false,
     "title": ""
    }
   },
   "outputs": [],
   "source": [
    "# Load the JSON metadata file from DBFS\n",
    "def load_json_metadata(json_file):\n",
    "    with open(json_file, 'r') as f:\n",
    "        try:\n",
    "            metadata = json.load(f)\n",
    "            # Debug: print the loaded metadata\n",
    "            print(\"Loaded metadata:\", metadata)\n",
    "            if isinstance(metadata, str):\n",
    "                raise ValueError(\"Metadata was loaded as a string. Expected a dictionary or list.\")\n",
    "            return metadata\n",
    "        except json.JSONDecodeError as e:\n",
    "            print(f\"Error decoding JSON: {e}\")\n",
    "            return None\n",
    "\n",
    "\n",
    "\n",
    "# Load the CSV file containing categories and corresponding placeholders/text\n",
    "def load_csv_tags(csv_file):\n",
    "    df = pd.read_csv(csv_file)\n",
    "    \n",
    "    # Clean the column names by stripping extra characters\n",
    "    df.columns = df.columns.str.strip()  # This will remove any extra spaces or semicolons\n",
    "    \n",
    "    # Print column names for debugging\n",
    "    print(\"Columns in CSV:\", df.columns.tolist())\n",
    "    \n",
    "    return df\n"
   ]
  },
  {
   "cell_type": "code",
   "execution_count": 0,
   "metadata": {
    "application/vnd.databricks.v1+cell": {
     "cellMetadata": {
      "byteLimit": 2048000,
      "rowLimit": 10000
     },
     "inputWidgets": {},
     "nuid": "c53d4b69-7190-40ad-b5ce-ab1f82290b7f",
     "showTitle": false,
     "title": ""
    }
   },
   "outputs": [
    {
     "output_type": "execute_result",
     "data": {
      "text/plain": [
       "'\\n# Function to construct RDF using rdflib\\ndef reconstruct_ontology_to_graph(metadata, csv_data):\\n    # Initialize RDF graph\\n    g = Graph()\\n\\n    # Define namespaces\\n    EX = Namespace(\"http://example.org/\")\\n    g.bind(\"ex\", EX)  # Bind the \\'ex\\' prefix to the example namespace\\n    \\n    for monument in metadata:\\n        object_id = monument.get(\\'object_id\\', \\'Unknown_ID\\')\\n        location = monument.get(\\'location\\', \\'Unknown Location\\')\\n        aanduidingsobject_url = monument.get(\\'aanduidingsobject_url\\', \\'Unknown URL\\')\\n        besluiten = monument.get(\\'besluiten\\', [])\\n        \\n        # Create URI for the monument\\n        monument_uri = URIRef(f\"http://example.org/monument/{object_id}\")\\n        \\n        for besluit in besluiten:\\n            besluit_id = besluit.get(\\'besluit_id\\', \\'Unknown_Besluit_ID\\')\\n            besluit_date = besluit.get(\\'besluit_date\\', \\'Unknown Date\\')\\n            besluit_url = besluit.get(\\'besluit_url\\', \\'Unknown Besluit URL\\')\\n            besluit_pdf_url = besluit.get(\\'besluit_pdf_url\\', \\'Unknown PDF URL\\')\\n            \\n            # Create URI for the besluit\\n            besluit_uri = URIRef(f\"http://example.org/besluit/{besluit_id}\")\\n\\n            # Add RDF triples based on CSV data\\n            for index, row in csv_data.iterrows():\\n                category = row[\\'Categories\\'].strip()\\n                text = row[\\'Text\\'].strip()\\n\\n                # Populate the RDF graph based on category\\n                if category == \\'<Monument>\\':\\n                    g.add((monument_uri, EX.hasName, Literal(text)))\\n                elif category == \\'<heeftAdres>\\':\\n                    g.add((monument_uri, EX.hasAddress, Literal(location)))\\n                elif category == \\'<beschermdDoor>\\':\\n                    g.add((monument_uri, EX.protectedBy, besluit_uri))\\n                elif category == \\'<heeftBesluitDatum>\\':\\n                    g.add((besluit_uri, EX.hasDecisionDate, Literal(besluit_date)))\\n                elif category == \\'<beschermt>\\':\\n                    g.add((besluit_uri, EX.protects, monument_uri))\\n                # Add more cases as needed...\\n\\n    return g\\n\\n# Save the RDF graph to Turtle format\\ndef save_graph_to_ttl(graph, output_file):\\n    graph.serialize(destination=output_file, format=\\'turtle\\')\\n'"
      ]
     },
     "execution_count": 58,
     "metadata": {},
     "output_type": "execute_result"
    }
   ],
   "source": [
    "'''\n",
    "# Function to construct RDF using rdflib\n",
    "def reconstruct_ontology_to_graph(metadata, csv_data):\n",
    "    # Initialize RDF graph\n",
    "    g = Graph()\n",
    "\n",
    "    # Define namespaces\n",
    "    EX = Namespace(\"http://example.org/\")\n",
    "    g.bind(\"ex\", EX)  # Bind the 'ex' prefix to the example namespace\n",
    "    \n",
    "    for monument in metadata:\n",
    "        object_id = monument.get('object_id', 'Unknown_ID')\n",
    "        location = monument.get('location', 'Unknown Location')\n",
    "        aanduidingsobject_url = monument.get('aanduidingsobject_url', 'Unknown URL')\n",
    "        besluiten = monument.get('besluiten', [])\n",
    "        \n",
    "        # Create URI for the monument\n",
    "        monument_uri = URIRef(f\"http://example.org/monument/{object_id}\")\n",
    "        \n",
    "        for besluit in besluiten:\n",
    "            besluit_id = besluit.get('besluit_id', 'Unknown_Besluit_ID')\n",
    "            besluit_date = besluit.get('besluit_date', 'Unknown Date')\n",
    "            besluit_url = besluit.get('besluit_url', 'Unknown Besluit URL')\n",
    "            besluit_pdf_url = besluit.get('besluit_pdf_url', 'Unknown PDF URL')\n",
    "            \n",
    "            # Create URI for the besluit\n",
    "            besluit_uri = URIRef(f\"http://example.org/besluit/{besluit_id}\")\n",
    "\n",
    "            # Add RDF triples based on CSV data\n",
    "            for index, row in csv_data.iterrows():\n",
    "                category = row['Categories'].strip()\n",
    "                text = row['Text'].strip()\n",
    "\n",
    "                # Populate the RDF graph based on category\n",
    "                if category == '<Monument>':\n",
    "                    g.add((monument_uri, EX.hasName, Literal(text)))\n",
    "                elif category == '<heeftAdres>':\n",
    "                    g.add((monument_uri, EX.hasAddress, Literal(location)))\n",
    "                elif category == '<beschermdDoor>':\n",
    "                    g.add((monument_uri, EX.protectedBy, besluit_uri))\n",
    "                elif category == '<heeftBesluitDatum>':\n",
    "                    g.add((besluit_uri, EX.hasDecisionDate, Literal(besluit_date)))\n",
    "                elif category == '<beschermt>':\n",
    "                    g.add((besluit_uri, EX.protects, monument_uri))\n",
    "                # Add more cases as needed...\n",
    "\n",
    "    return g\n",
    "\n",
    "# Save the RDF graph to Turtle format\n",
    "def save_graph_to_ttl(graph, output_file):\n",
    "    graph.serialize(destination=output_file, format='turtle')\n",
    "'''"
   ]
  },
  {
   "cell_type": "code",
   "execution_count": 0,
   "metadata": {
    "application/vnd.databricks.v1+cell": {
     "cellMetadata": {
      "byteLimit": 2048000,
      "rowLimit": 10000
     },
     "inputWidgets": {},
     "nuid": "18cea04e-4c7c-4d21-9b4b-edc4c7200e83",
     "showTitle": false,
     "title": ""
    }
   },
   "outputs": [],
   "source": [
    "\n",
    "# Function to reconstruct RDF for each category dynamically\n",
    "def reconstruct_ontology(metadata, csv_data):\n",
    "    rdf_output = []\n",
    "    \n",
    "    # Check if metadata is a list of monuments\n",
    "    if isinstance(metadata, dict):\n",
    "        # If metadata is a dictionary, wrap it in a list\n",
    "        metadata = [metadata]\n",
    "    \n",
    "    # Now iterate over the list of monuments\n",
    "    for monument in metadata:\n",
    "        object_id = monument.get('object_id', 'Unknown_ID')\n",
    "        location = monument.get('location', 'Unknown Location')\n",
    "        aanduidingsobject_url = monument.get('aanduidingsobject_url', 'Unknown URL')\n",
    "        besluiten = monument.get('besluiten', [])\n",
    "        \n",
    "        # Loop over each besluit (legal decree)\n",
    "        for besluit in besluiten:\n",
    "            besluit_id = besluit.get('besluit_id', 'Unknown_Besluit_ID')\n",
    "            besluit_date = besluit.get('besluit_date', 'Unknown Date')\n",
    "            besluit_url = besluit.get('besluit_url', 'Unknown Besluit URL')\n",
    "            besluit_pdf_url = besluit.get('besluit_pdf_url', 'Unknown PDF URL')\n",
    "            \n",
    "            # Now process CSV data as before to construct the RDF\n",
    "            rdf_parts = []\n",
    "            for index, row in csv_data.iterrows():\n",
    "                category = row['Categories']\n",
    "                text = row['Text']\n",
    "                \n",
    "                # Customize RDF content for known categories\n",
    "                if category == '<Monument>':\n",
    "                    rdf_parts.append(f'<Monument rdf:ID=\"Monument_{object_id}\">')\n",
    "                elif category == '<heeftNaam>':\n",
    "                    rdf_parts.append(f'    <heeftNaam>{text}</heeftNaam>')\n",
    "                elif category == '<heeftAdres>':\n",
    "                    rdf_parts.append(f'    <heeftAdres>{location}</heeftAdres>')\n",
    "                elif category == '<gevestigdIn>':\n",
    "                    rdf_parts.append(f'    <gevestigdIn rdf:resource=\"#Locatie_Gent\"/>')\n",
    "                elif category == '<ontworpenDoor>':\n",
    "                    rdf_parts.append(f'    <ontworpenDoor rdf:resource=\"#Architect_[ArchitectID]\"/>')\n",
    "                elif category == '<beschermdDoor>':\n",
    "                    rdf_parts.append(f'    <beschermdDoor rdf:resource=\"#Besluit_{besluit_id}\"/>')\n",
    "                elif category == '<heeftBesluitDatum>':\n",
    "                    rdf_parts.append(f'<Besluit rdf:ID=\"Besluit_{besluit_id}\">')\n",
    "                    rdf_parts.append(f'    <heeftBesluitDatum>{besluit_date}</heeftBesluitDatum>')\n",
    "                elif category == '<beschermt>':\n",
    "                    rdf_parts.append(f'    <beschermt rdf:resource=\"#Monument_{object_id}\"/>')\n",
    "                elif category == '<heeftURL>':\n",
    "                    rdf_parts.append(f'    <heeftURL rdf:resource=\"{aanduidingsobject_url}\"/>')\n",
    "                else:\n",
    "                    rdf_parts.append(f'    {category} {text}')\n",
    "            \n",
    "            # Add closing tags for Monument and Besluit\n",
    "            rdf_parts.append('</Monument>')\n",
    "            rdf_parts.append('</Besluit>')\n",
    "            \n",
    "            # Append the result to the overall RDF output\n",
    "            rdf_output.append(\"\\n\".join(rdf_parts))\n",
    "    \n",
    "    return \"\\n\".join(rdf_output)\n"
   ]
  },
  {
   "cell_type": "code",
   "execution_count": 0,
   "metadata": {
    "application/vnd.databricks.v1+cell": {
     "cellMetadata": {
      "byteLimit": 2048000,
      "rowLimit": 10000
     },
     "inputWidgets": {},
     "nuid": "9fe5a085-a82b-44b5-a2b7-93259cce7da2",
     "showTitle": false,
     "title": ""
    }
   },
   "outputs": [],
   "source": [
    "# Save the reconstructed ontology to a file\n",
    "def save_ontology_to_file(ontology, output_file):\n",
    "    with open(output_file, 'w') as f:\n",
    "        f.write(ontology)"
   ]
  },
  {
   "cell_type": "code",
   "execution_count": 0,
   "metadata": {
    "application/vnd.databricks.v1+cell": {
     "cellMetadata": {
      "byteLimit": 2048000,
      "rowLimit": 10000
     },
     "inputWidgets": {},
     "nuid": "a051de7a-c307-40e8-9f96-6ba848393103",
     "showTitle": false,
     "title": ""
    }
   },
   "outputs": [],
   "source": [
    "\n",
    "# Function to run the full process\n",
    "def main(json_file, csv_file, output_file):\n",
    "    # Load metadata and tags\n",
    "    metadata = load_json_metadata(json_file)\n",
    "    csv_data = load_csv_tags(csv_file)\n",
    "    \n",
    "    # Reconstruct RDF\n",
    "    ontology = reconstruct_ontology(metadata, csv_data)\n",
    "    \n",
    "    # Output the entire RDF content to console\n",
    "    print(ontology)\n",
    "    \n",
    "    # Save the RDF structure to a file\n",
    "    save_ontology_to_file(ontology, output_file)\n"
   ]
  },
  {
   "cell_type": "code",
   "execution_count": 0,
   "metadata": {
    "application/vnd.databricks.v1+cell": {
     "cellMetadata": {
      "byteLimit": 2048000,
      "rowLimit": 10000
     },
     "inputWidgets": {},
     "nuid": "5d4e7319-2231-4dea-b5c8-b6691de656e0",
     "showTitle": false,
     "title": ""
    }
   },
   "outputs": [],
   "source": [
    "# Function to run the full process\n",
    "def main(json_file, csv_file, output_file):\n",
    "    # Load metadata and tags\n",
    "    metadata = load_json_metadata(json_file)\n",
    "    csv_data = load_csv_tags(csv_file)\n",
    "    \n",
    "    # Reconstruct RDF\n",
    "    ontology = reconstruct_ontology(metadata, csv_data)\n",
    "    \n",
    "    # Output the entire RDF content to console\n",
    "    print(ontology)\n",
    "    \n",
    "    # Save the RDF structure to a file\n",
    "    save_ontology_to_file(ontology, output_file)\n"
   ]
  },
  {
   "cell_type": "code",
   "execution_count": 0,
   "metadata": {
    "application/vnd.databricks.v1+cell": {
     "cellMetadata": {
      "byteLimit": 2048000,
      "rowLimit": 10000
     },
     "inputWidgets": {},
     "nuid": "291035ab-2556-427b-92e4-bc4672bd4787",
     "showTitle": false,
     "title": ""
    }
   },
   "outputs": [
    {
     "output_type": "stream",
     "name": "stdout",
     "output_type": "stream",
     "text": [
      "Loaded metadata: {'aanduidingsobject_url': 'https://inventaris.onroerenderfgoed.be/aanduidingsobjecten/113448', 'object_id': 113448, 'location': 'Gérard Willemotlaan 85 (Gent)', 'besluiten': [{'besluit_url': 'https://besluiten.onroerenderfgoed.be/besluiten/14743', 'besluit_pdf_url': 'https://besluiten.onroerenderfgoed.be/besluiten/14743/bestanden/21145', 'besluit_id': 14743, 'pdf_file_id': 21145, 'besluit_date': '2018-12-20'}]}\nColumns in CSV: ['Categories', 'Text']\n<Monument rdf:ID=\"Monument_113448\">\n    <heeftNaam>Architectenwoning Ferdinand Schlich;</heeftNaam>\n    <heeftAdres>Gérard Willemotlaan 85 (Gent)</heeftAdres>\n    <gevestigdIn rdf:resource=\"#Locatie_Gent\"/>\n    <heeftKadastraleInformatie> Gent 29ste afdeling sectie A perceelnummer 770M;\n    <ontworpenDoor rdf:resource=\"#Architect_[ArchitectID]\"/>\n    <volgtArchitectuurstijl> Modernisme;\n    <heeftBouwdatum> 1988;\n    <beschermdDoor rdf:resource=\"#Besluit_14743\"/>\n    <heeftHistorischeBetekenis>,\"De woning van Ferdinand Schlich is een waardevol voorbeeld van architectonische eenvoud, ambachtelijke afwerking en integratie in de omgeving. Het gebouw toont sterke invloeden van modernisme en het werk van Mies van der Rohe, Le Corbusier, en Frank Lloyd Wright.\"; nan\n    <Besluit> Besluit van 20 december 2018;\n<Besluit rdf:ID=\"Besluit_14743\">\n    <heeftBesluitDatum>2018-12-20</heeftBesluitDatum>\n    <beschermt rdf:resource=\"#Monument_113448\"/>\n    <wettelijkeBasis> Onroerenderfgoeddecreet van 12 juli 2013  artikel 6.1.1;\n    <typeBescherming> Definitieve bescherming;\n    <gerelateerdMonument> Monument_113448;\n    <Locatie> Gent;\n    <heeftNaam>Gent;</heeftNaam>\n    <bevatMonument> Architectenwoning Ferdinand Schlich;\n</Monument>\n</Besluit>\n"
     ]
    }
   ],
   "source": [
    "# Paths to the metadata and CSV file\n",
    "json_file = \"/dbfs/FileStore/ABB_pdf/metadata_113448.json\"  # metadata for ids\n",
    "csv_file = \"/dbfs/FileStore/ABB_pdf/tags.csv\"  # pdf extracted and put to CSV \n",
    "output_file = \"/dbfs/FileStore/ABB_pdf/reconstructed_ontology.rdf\"  # Output RDF file path\n",
    "\n",
    "# Call the main function to execute the script\n",
    "main(json_file, csv_file, output_file)"
   ]
  },
  {
   "cell_type": "code",
   "execution_count": 0,
   "metadata": {
    "application/vnd.databricks.v1+cell": {
     "cellMetadata": {},
     "inputWidgets": {},
     "nuid": "d42d9549-d413-4123-93fd-f24e565c1239",
     "showTitle": false,
     "title": ""
    }
   },
   "outputs": [],
   "source": []
  }
 ],
 "metadata": {
  "application/vnd.databricks.v1+notebook": {
   "dashboards": [],
   "environmentMetadata": null,
   "language": "python",
   "notebookMetadata": {
    "pythonIndentUnit": 4
   },
   "notebookName": "RDF Ontology transformation (SPARQL compatible)",
   "widgets": {}
  }
 },
 "nbformat": 4,
 "nbformat_minor": 0
}
