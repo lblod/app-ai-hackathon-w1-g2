{
 "cells": [
  {
   "cell_type": "code",
   "execution_count": 0,
   "metadata": {
    "application/vnd.databricks.v1+cell": {
     "cellMetadata": {
      "byteLimit": 2048000,
      "rowLimit": 10000
     },
     "inputWidgets": {},
     "nuid": "5795f73a-a98b-4be6-a6fd-a8cb418319cc",
     "showTitle": false,
     "title": ""
    }
   },
   "outputs": [],
   "source": [
    "import requests\n",
    "import os\n"
   ]
  },
  {
   "cell_type": "code",
   "execution_count": 0,
   "metadata": {
    "application/vnd.databricks.v1+cell": {
     "cellMetadata": {
      "byteLimit": 2048000,
      "rowLimit": 10000
     },
     "inputWidgets": {},
     "nuid": "e5de5e4b-03bc-4ec0-ad10-fb1cadf47d78",
     "showTitle": false,
     "title": ""
    }
   },
   "outputs": [],
   "source": [
    "# Base URLs for API requests\n",
    "base_url = \"https://inventaris.onroerenderfgoed.be\"\n",
    "besluiten_base_url = \"https://besluiten.onroerenderfgoed.be/besluiten\"\n",
    "besluit_types_base_url = \"https://id.erfgoed.net/thesauri/besluittypes\"\n"
   ]
  },
  {
   "cell_type": "code",
   "execution_count": 0,
   "metadata": {
    "application/vnd.databricks.v1+cell": {
     "cellMetadata": {
      "byteLimit": 2048000,
      "rowLimit": 10000
     },
     "inputWidgets": {},
     "nuid": "d5f59d24-74ed-48d1-8fee-5e00e295d7d5",
     "showTitle": false,
     "title": ""
    }
   },
   "outputs": [],
   "source": [
    "# DBFS directory where files will be stored\n",
    "dbfs_save_dir = \"/dbfs/FileStore/ABB_pdf\""
   ]
  },
  {
   "cell_type": "code",
   "execution_count": 0,
   "metadata": {
    "application/vnd.databricks.v1+cell": {
     "cellMetadata": {
      "byteLimit": 2048000,
      "rowLimit": 10000
     },
     "inputWidgets": {},
     "nuid": "8e63aba2-40db-4a93-9210-9fac6827142e",
     "showTitle": false,
     "title": ""
    }
   },
   "outputs": [],
   "source": [
    "# Headers for JSON and CSV requests\n",
    "headers_json = {\n",
    "    \"Accept\": \"application/json\"\n",
    "}\n",
    "headers_csv = {\n",
    "    \"Accept\": \"text/csv\"\n",
    "}"
   ]
  },
  {
   "cell_type": "code",
   "execution_count": 0,
   "metadata": {
    "application/vnd.databricks.v1+cell": {
     "cellMetadata": {
      "byteLimit": 2048000,
      "rowLimit": 10000
     },
     "inputWidgets": {},
     "nuid": "165ba3ff-9df9-432a-a3b2-724dad31e836",
     "showTitle": false,
     "title": ""
    }
   },
   "outputs": [],
   "source": [
    "# Function to search 'aanduidingsobjecten' based on text query\n",
    "def search_aanduidingsobjecten(tekst, limit=12):\n",
    "    url = f\"{base_url}/aanduidingsobjecten\"\n",
    "    params = {\n",
    "        \"tekst\": tekst\n",
    "    }\n",
    "    response = requests.get(url, headers=headers_json, params=params)\n",
    "    \n",
    "    if response.status_code == 200:\n",
    "        return response.json()  # Return JSON response\n",
    "    else:\n",
    "        print(f\"Error searching for aanduidingsobjecten: {response.status_code}\")\n",
    "        return None\n",
    "\n",
    "# Function to get detailed information from 'self' link of 'aanduidingsobjecten'\n",
    "def get_aanduidingsobjecten_details(obj_id):\n",
    "    url = f\"{base_url}/aanduidingsobjecten/{obj_id}\"\n",
    "    response = requests.get(url, headers=headers_json)\n",
    "    \n",
    "    if response.status_code == 200:\n",
    "        return response.json()\n",
    "    else:\n",
    "        print(f\"Error fetching details for {obj_id}: {response.status_code}\")\n",
    "        return None\n",
    "\n",
    "# Function to fetch the besluiten (decisions) for a specific besluit ID\n",
    "def fetch_besluit_files(besluit_id):\n",
    "    url = f\"{besluiten_base_url}/{besluit_id}/bestanden/\"\n",
    "    response = requests.get(url, headers=headers_json)\n",
    "    \n",
    "    if response.status_code == 200:\n",
    "        return response.json()  # Assuming JSON response with file metadata\n",
    "    else:\n",
    "        print(f\"Error fetching files for besluit {besluit_id}: {response.status_code}\")\n",
    "        return None\n",
    "\n",
    "\n"
   ]
  },
  {
   "cell_type": "code",
   "execution_count": 0,
   "metadata": {
    "application/vnd.databricks.v1+cell": {
     "cellMetadata": {},
     "inputWidgets": {},
     "nuid": "868dbb9e-a2f1-4ef5-9234-c205423ab8a7",
     "showTitle": false,
     "title": ""
    }
   },
   "outputs": [],
   "source": [
    "\n",
    "\n",
    "'''\n",
    "# Function to download PDF files to DBFS\n",
    "def download_pdf_to_dbfs(file_id, besluit_id, save_dir):\n",
    "    # Construct the final URL for downloading the file\n",
    "    file_url = f\"{besluiten_base_url}/{besluit_id}/bestanden/{file_id}\"\n",
    "    print(f\"Attempting to download from URL: {file_url}\")\n",
    "    \n",
    "    response = requests.get(file_url, stream=True)\n",
    "    \n",
    "    if response.status_code == 200:\n",
    "        # Ensure DBFS save directory exists\n",
    "        dbutils.fs.mkdirs(save_dir)  # No need for '/dbfs' prefix\n",
    "        \n",
    "        # Save the file in DBFS\n",
    "        pdf_filename = os.path.join(save_dir, f\"{file_id}.pdf\")\n",
    "        \n",
    "        with open(f\"/dbfs{pdf_filename}\", 'wb') as pdf_file:  # '/dbfs' prefix here is needed\n",
    "            for chunk in response.iter_content(chunk_size=1024):\n",
    "                if chunk:  # Filter out keep-alive chunks\n",
    "                    pdf_file.write(chunk)\n",
    "        \n",
    "        print(f\"Downloaded {pdf_filename} to DBFS\")\n",
    "    else:\n",
    "        print(f\"Error downloading PDF file {file_id}: {response.status_code} - {response.text}\")\n",
    "'''"
   ]
  },
  {
   "cell_type": "code",
   "execution_count": 0,
   "metadata": {
    "application/vnd.databricks.v1+cell": {
     "cellMetadata": {
      "byteLimit": 2048000,
      "rowLimit": 10000
     },
     "inputWidgets": {},
     "nuid": "426f77fe-c8b8-487b-b00c-25bc3999db80",
     "showTitle": false,
     "title": ""
    }
   },
   "outputs": [],
   "source": [
    "# Function to download PDF files to DBFS\n",
    "def download_pdf_to_dbfs(file_id, besluit_id, save_dir):\n",
    "    # Construct the final URL for downloading the file\n",
    "    file_url = f\"{besluiten_base_url}/{besluit_id}/bestanden/{file_id}\"\n",
    "    print(f\"Attempting to download from URL: {file_url}\")\n",
    "    \n",
    "    response = requests.get(file_url, stream=True)\n",
    "    \n",
    "    # Check if the response contains a PDF based on the headers\n",
    "    content_type = response.headers.get('Content-Type')\n",
    "    if content_type != 'application/pdf':\n",
    "        print(f\"Error: The file at {file_url} is not a PDF. Content-Type: {content_type}\")\n",
    "        return\n",
    "    \n",
    "    # Ensure that the directory exists\n",
    "    dbutils.fs.mkdirs(save_dir)  # No need for '/dbfs' prefix\n",
    "    \n",
    "    # Save the file in DBFS\n",
    "    pdf_filename = os.path.join(save_dir, f\"{file_id}.pdf\")\n",
    "    \n",
    "    with open(f\"/dbfs{pdf_filename}\", 'wb') as pdf_file:\n",
    "        for chunk in response.iter_content(chunk_size=1024):\n",
    "            if chunk:  # Filter out keep-alive chunks\n",
    "                pdf_file.write(chunk)\n",
    "    \n",
    "    # Verify if the file size is greater than 0 to ensure it was saved correctly\n",
    "    file_size = os.path.getsize(f\"/dbfs{pdf_filename}\")\n",
    "    if file_size > 0:\n",
    "        print(f\"Downloaded {pdf_filename} to DBFS ({file_size} bytes)\")\n",
    "    else:\n",
    "        print(f\"Error: {pdf_filename} was saved but the file size is 0 bytes.\")\n",
    "\n"
   ]
  },
  {
   "cell_type": "code",
   "execution_count": 0,
   "metadata": {
    "application/vnd.databricks.v1+cell": {
     "cellMetadata": {
      "byteLimit": 2048000,
      "rowLimit": 10000
     },
     "inputWidgets": {},
     "nuid": "b69239cf-04ba-44c5-baf2-671cf803a7f4",
     "showTitle": false,
     "title": ""
    }
   },
   "outputs": [
    {
     "output_type": "stream",
     "name": "stdout",
     "output_type": "stream",
     "text": [
      "Processing object 169894\nFetching besluit ID 15115\nDownloading PDF file ID 35765 for besluit 15115\nAttempting to download from URL: https://besluiten.onroerenderfgoed.be/besluiten/15115/bestanden/35765\nDownloaded /dbfs/FileStore/ABB_pdf/35765.pdf to DBFS (227628 bytes)\nProcessing object 113499\nFetching besluit ID 14789\nDownloading PDF file ID 26258 for besluit 14789\nAttempting to download from URL: https://besluiten.onroerenderfgoed.be/besluiten/14789/bestanden/26258\nDownloaded /dbfs/FileStore/ABB_pdf/26258.pdf to DBFS (320999 bytes)\nProcessing object 171222\nFetching besluit ID 15115\nDownloading PDF file ID 35765 for besluit 15115\nAttempting to download from URL: https://besluiten.onroerenderfgoed.be/besluiten/15115/bestanden/35765\nDownloaded /dbfs/FileStore/ABB_pdf/35765.pdf to DBFS (227628 bytes)\nProcessing object 27977\nFetching besluit ID 5825\nDownloading PDF file ID 16110 for besluit 5825\nAttempting to download from URL: https://besluiten.onroerenderfgoed.be/besluiten/5825/bestanden/16110\nDownloaded /dbfs/FileStore/ABB_pdf/16110.pdf to DBFS (8699940 bytes)\nProcessing object 152836\nFetching besluit ID 15115\nDownloading PDF file ID 35765 for besluit 15115\nAttempting to download from URL: https://besluiten.onroerenderfgoed.be/besluiten/15115/bestanden/35765\nDownloaded /dbfs/FileStore/ABB_pdf/35765.pdf to DBFS (227628 bytes)\nProcessing object 113448\nFetching besluit ID 14743\nDownloading PDF file ID 21145 for besluit 14743\nAttempting to download from URL: https://besluiten.onroerenderfgoed.be/besluiten/14743/bestanden/21145\nDownloaded /dbfs/FileStore/ABB_pdf/21145.pdf to DBFS (3313048 bytes)\nProcessing object 166413\nFetching besluit ID 15115\nDownloading PDF file ID 35765 for besluit 15115\nAttempting to download from URL: https://besluiten.onroerenderfgoed.be/besluiten/15115/bestanden/35765\nDownloaded /dbfs/FileStore/ABB_pdf/35765.pdf to DBFS (227628 bytes)\nProcessing object 6026\nFetching besluit ID 4552\nDownloading PDF file ID 11383 for besluit 4552\nAttempting to download from URL: https://besluiten.onroerenderfgoed.be/besluiten/4552/bestanden/11383\nDownloaded /dbfs/FileStore/ABB_pdf/11383.pdf to DBFS (557291 bytes)\nProcessing object 170796\nFetching besluit ID 15115\nDownloading PDF file ID 35765 for besluit 15115\nAttempting to download from URL: https://besluiten.onroerenderfgoed.be/besluiten/15115/bestanden/35765\nDownloaded /dbfs/FileStore/ABB_pdf/35765.pdf to DBFS (227628 bytes)\nProcessing object 4665\nFetching besluit ID 2942\nDownloading PDF file ID 8157 for besluit 2942\nAttempting to download from URL: https://besluiten.onroerenderfgoed.be/besluiten/2942/bestanden/8157\nDownloaded /dbfs/FileStore/ABB_pdf/8157.pdf to DBFS (191379 bytes)\n"
     ]
    }
   ],
   "source": [
    "# Main function to execute the entire process\n",
    "def process_aanduidingsobjecten(tekst_search, num_items, save_dir):\n",
    "    # Step 1: Search for objects\n",
    "    search_results = search_aanduidingsobjecten(tekst_search, limit=num_items)\n",
    "    \n",
    "    if search_results:\n",
    "        # Check if search_results is a list (some APIs may return a list directly)\n",
    "        if isinstance(search_results, list):\n",
    "            objects = search_results\n",
    "        else:\n",
    "            # If it's a dictionary, check for 'items' key\n",
    "            objects = search_results.get('items', [])\n",
    "\n",
    "        # Iterate through the results and fetch details for each object\n",
    "        for obj in objects:\n",
    "            obj_id = obj.get('id')\n",
    "            print(f\"Processing object {obj_id}\")\n",
    "\n",
    "            # Step 2: Get detailed info using the object ID\n",
    "            obj_details = get_aanduidingsobjecten_details(obj_id)\n",
    "            \n",
    "            if obj_details and 'self' in obj_details:\n",
    "                # Step 3: Extract 'besluiten' (decisions) from the object details\n",
    "                relevant_besluiten = obj_details.get(\"besluiten\", [])\n",
    "                \n",
    "                for besluit in relevant_besluiten:\n",
    "                    besluit_id = besluit.get(\"id\")\n",
    "                    print(f\"Fetching besluit ID {besluit_id}\")\n",
    "                    \n",
    "                    # Step 4: Fetch the files for each besluit\n",
    "                    besluit_files = fetch_besluit_files(besluit_id)\n",
    "                    \n",
    "                    if besluit_files:\n",
    "                        for file in besluit_files:\n",
    "                            file_id = file.get(\"id\")\n",
    "                            file_type = file.get(\"bestandssoort\", {}).get(\"soort\", \"\")\n",
    "                            \n",
    "                            if file_type == \"Besluit\":  # Only download files of type \"Besluit\"\n",
    "                                print(f\"Downloading PDF file ID {file_id} for besluit {besluit_id}\")\n",
    "                                download_pdf_to_dbfs(file_id, besluit_id, save_dir)\n",
    "    else:\n",
    "        print(\"No search results found.\")\n",
    "\n",
    "# Example usage: \n",
    "# Searching for 'Architectenwoning' and processing the first 5 results\n",
    "process_aanduidingsobjecten(tekst_search=\"Architectenwoning\", num_items=5, save_dir=dbfs_save_dir)"
   ]
  },
  {
   "cell_type": "code",
   "execution_count": 0,
   "metadata": {
    "application/vnd.databricks.v1+cell": {
     "cellMetadata": {},
     "inputWidgets": {},
     "nuid": "20dc4308-d5d5-4280-b0d3-db5a91049019",
     "showTitle": false,
     "title": ""
    }
   },
   "outputs": [],
   "source": []
  }
 ],
 "metadata": {
  "application/vnd.databricks.v1+notebook": {
   "dashboards": [],
   "environmentMetadata": {
    "base_environment": "",
    "client": "1"
   },
   "language": "python",
   "notebookMetadata": {
    "pythonIndentUnit": 4
   },
   "notebookName": "ABB_Extraction of pdfs",
   "widgets": {}
  }
 },
 "nbformat": 4,
 "nbformat_minor": 0
}
