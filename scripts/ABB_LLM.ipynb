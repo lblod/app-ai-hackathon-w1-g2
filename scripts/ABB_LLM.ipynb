{
  "nbformat": 4,
  "nbformat_minor": 0,
  "metadata": {
    "colab": {
      "provenance": [],
      "machine_shape": "hm",
      "gpuType": "T4"
    },
    "kernelspec": {
      "name": "python3",
      "display_name": "Python 3"
    },
    "language_info": {
      "name": "python"
    },
    "accelerator": "GPU"
  },
  "cells": [
    {
      "cell_type": "code",
      "source": [
        "!curl -fsSL https://ollama.com/install.sh | sh"
      ],
      "metadata": {
        "id": "e_ItTzPpdnj-",
        "colab": {
          "base_uri": "https://localhost:8080/"
        },
        "outputId": "9ec6f005-02cd-49eb-b629-3b0bd28dc47f"
      },
      "execution_count": 1,
      "outputs": [
        {
          "output_type": "stream",
          "name": "stdout",
          "text": [
            ">>> Installing ollama to /usr/local\n",
            ">>> Downloading Linux amd64 bundle\n",
            "############################################################################################# 100.0%\n",
            ">>> Creating ollama user...\n",
            ">>> Adding ollama user to video group...\n",
            ">>> Adding current user to ollama group...\n",
            ">>> Creating ollama systemd service...\n",
            "WARNING: Unable to detect NVIDIA/AMD GPU. Install lspci or lshw to automatically detect and install GPU dependencies.\n",
            ">>> The Ollama API is now available at 127.0.0.1:11434.\n",
            ">>> Install complete. Run \"ollama\" from the command line.\n"
          ]
        }
      ]
    },
    {
      "cell_type": "code",
      "source": [
        "!pip install langchain-community"
      ],
      "metadata": {
        "colab": {
          "base_uri": "https://localhost:8080/"
        },
        "id": "3D3tKPFshnxl",
        "outputId": "3fdfd6e2-b33d-4840-c470-98fbd5347768"
      },
      "execution_count": 2,
      "outputs": [
        {
          "output_type": "stream",
          "name": "stdout",
          "text": [
            "Collecting langchain-community\n",
            "  Downloading langchain_community-0.3.0-py3-none-any.whl.metadata (2.8 kB)\n",
            "Requirement already satisfied: PyYAML>=5.3 in /usr/local/lib/python3.10/dist-packages (from langchain-community) (6.0.2)\n",
            "Requirement already satisfied: SQLAlchemy<3,>=1.4 in /usr/local/lib/python3.10/dist-packages (from langchain-community) (2.0.35)\n",
            "Requirement already satisfied: aiohttp<4.0.0,>=3.8.3 in /usr/local/lib/python3.10/dist-packages (from langchain-community) (3.10.5)\n",
            "Collecting dataclasses-json<0.7,>=0.5.7 (from langchain-community)\n",
            "  Downloading dataclasses_json-0.6.7-py3-none-any.whl.metadata (25 kB)\n",
            "Collecting langchain<0.4.0,>=0.3.0 (from langchain-community)\n",
            "  Downloading langchain-0.3.0-py3-none-any.whl.metadata (7.1 kB)\n",
            "Collecting langchain-core<0.4.0,>=0.3.0 (from langchain-community)\n",
            "  Downloading langchain_core-0.3.5-py3-none-any.whl.metadata (6.3 kB)\n",
            "Collecting langsmith<0.2.0,>=0.1.112 (from langchain-community)\n",
            "  Downloading langsmith-0.1.126-py3-none-any.whl.metadata (13 kB)\n",
            "Requirement already satisfied: numpy<2,>=1 in /usr/local/lib/python3.10/dist-packages (from langchain-community) (1.26.4)\n",
            "Collecting pydantic-settings<3.0.0,>=2.4.0 (from langchain-community)\n",
            "  Downloading pydantic_settings-2.5.2-py3-none-any.whl.metadata (3.5 kB)\n",
            "Requirement already satisfied: requests<3,>=2 in /usr/local/lib/python3.10/dist-packages (from langchain-community) (2.32.3)\n",
            "Collecting tenacity!=8.4.0,<9.0.0,>=8.1.0 (from langchain-community)\n",
            "  Downloading tenacity-8.5.0-py3-none-any.whl.metadata (1.2 kB)\n",
            "Requirement already satisfied: aiohappyeyeballs>=2.3.0 in /usr/local/lib/python3.10/dist-packages (from aiohttp<4.0.0,>=3.8.3->langchain-community) (2.4.0)\n",
            "Requirement already satisfied: aiosignal>=1.1.2 in /usr/local/lib/python3.10/dist-packages (from aiohttp<4.0.0,>=3.8.3->langchain-community) (1.3.1)\n",
            "Requirement already satisfied: attrs>=17.3.0 in /usr/local/lib/python3.10/dist-packages (from aiohttp<4.0.0,>=3.8.3->langchain-community) (24.2.0)\n",
            "Requirement already satisfied: frozenlist>=1.1.1 in /usr/local/lib/python3.10/dist-packages (from aiohttp<4.0.0,>=3.8.3->langchain-community) (1.4.1)\n",
            "Requirement already satisfied: multidict<7.0,>=4.5 in /usr/local/lib/python3.10/dist-packages (from aiohttp<4.0.0,>=3.8.3->langchain-community) (6.1.0)\n",
            "Requirement already satisfied: yarl<2.0,>=1.0 in /usr/local/lib/python3.10/dist-packages (from aiohttp<4.0.0,>=3.8.3->langchain-community) (1.11.1)\n",
            "Requirement already satisfied: async-timeout<5.0,>=4.0 in /usr/local/lib/python3.10/dist-packages (from aiohttp<4.0.0,>=3.8.3->langchain-community) (4.0.3)\n",
            "Collecting marshmallow<4.0.0,>=3.18.0 (from dataclasses-json<0.7,>=0.5.7->langchain-community)\n",
            "  Downloading marshmallow-3.22.0-py3-none-any.whl.metadata (7.2 kB)\n",
            "Collecting typing-inspect<1,>=0.4.0 (from dataclasses-json<0.7,>=0.5.7->langchain-community)\n",
            "  Downloading typing_inspect-0.9.0-py3-none-any.whl.metadata (1.5 kB)\n",
            "Collecting langchain-text-splitters<0.4.0,>=0.3.0 (from langchain<0.4.0,>=0.3.0->langchain-community)\n",
            "  Downloading langchain_text_splitters-0.3.0-py3-none-any.whl.metadata (2.3 kB)\n",
            "Requirement already satisfied: pydantic<3.0.0,>=2.7.4 in /usr/local/lib/python3.10/dist-packages (from langchain<0.4.0,>=0.3.0->langchain-community) (2.9.2)\n",
            "Collecting jsonpatch<2.0,>=1.33 (from langchain-core<0.4.0,>=0.3.0->langchain-community)\n",
            "  Downloading jsonpatch-1.33-py2.py3-none-any.whl.metadata (3.0 kB)\n",
            "Requirement already satisfied: packaging<25,>=23.2 in /usr/local/lib/python3.10/dist-packages (from langchain-core<0.4.0,>=0.3.0->langchain-community) (24.1)\n",
            "Requirement already satisfied: typing-extensions>=4.7 in /usr/local/lib/python3.10/dist-packages (from langchain-core<0.4.0,>=0.3.0->langchain-community) (4.12.2)\n",
            "Collecting httpx<1,>=0.23.0 (from langsmith<0.2.0,>=0.1.112->langchain-community)\n",
            "  Downloading httpx-0.27.2-py3-none-any.whl.metadata (7.1 kB)\n",
            "Collecting orjson<4.0.0,>=3.9.14 (from langsmith<0.2.0,>=0.1.112->langchain-community)\n",
            "  Downloading orjson-3.10.7-cp310-cp310-manylinux_2_17_x86_64.manylinux2014_x86_64.whl.metadata (50 kB)\n",
            "\u001b[2K     \u001b[90m━━━━━━━━━━━━━━━━━━━━━━━━━━━━━━━━━━━━━━━━\u001b[0m \u001b[32m50.4/50.4 kB\u001b[0m \u001b[31m3.8 MB/s\u001b[0m eta \u001b[36m0:00:00\u001b[0m\n",
            "\u001b[?25hCollecting python-dotenv>=0.21.0 (from pydantic-settings<3.0.0,>=2.4.0->langchain-community)\n",
            "  Downloading python_dotenv-1.0.1-py3-none-any.whl.metadata (23 kB)\n",
            "Requirement already satisfied: charset-normalizer<4,>=2 in /usr/local/lib/python3.10/dist-packages (from requests<3,>=2->langchain-community) (3.3.2)\n",
            "Requirement already satisfied: idna<4,>=2.5 in /usr/local/lib/python3.10/dist-packages (from requests<3,>=2->langchain-community) (3.10)\n",
            "Requirement already satisfied: urllib3<3,>=1.21.1 in /usr/local/lib/python3.10/dist-packages (from requests<3,>=2->langchain-community) (2.2.3)\n",
            "Requirement already satisfied: certifi>=2017.4.17 in /usr/local/lib/python3.10/dist-packages (from requests<3,>=2->langchain-community) (2024.8.30)\n",
            "Requirement already satisfied: greenlet!=0.4.17 in /usr/local/lib/python3.10/dist-packages (from SQLAlchemy<3,>=1.4->langchain-community) (3.1.0)\n",
            "Requirement already satisfied: anyio in /usr/local/lib/python3.10/dist-packages (from httpx<1,>=0.23.0->langsmith<0.2.0,>=0.1.112->langchain-community) (3.7.1)\n",
            "Collecting httpcore==1.* (from httpx<1,>=0.23.0->langsmith<0.2.0,>=0.1.112->langchain-community)\n",
            "  Downloading httpcore-1.0.5-py3-none-any.whl.metadata (20 kB)\n",
            "Requirement already satisfied: sniffio in /usr/local/lib/python3.10/dist-packages (from httpx<1,>=0.23.0->langsmith<0.2.0,>=0.1.112->langchain-community) (1.3.1)\n",
            "Collecting h11<0.15,>=0.13 (from httpcore==1.*->httpx<1,>=0.23.0->langsmith<0.2.0,>=0.1.112->langchain-community)\n",
            "  Downloading h11-0.14.0-py3-none-any.whl.metadata (8.2 kB)\n",
            "Collecting jsonpointer>=1.9 (from jsonpatch<2.0,>=1.33->langchain-core<0.4.0,>=0.3.0->langchain-community)\n",
            "  Downloading jsonpointer-3.0.0-py2.py3-none-any.whl.metadata (2.3 kB)\n",
            "Requirement already satisfied: annotated-types>=0.6.0 in /usr/local/lib/python3.10/dist-packages (from pydantic<3.0.0,>=2.7.4->langchain<0.4.0,>=0.3.0->langchain-community) (0.7.0)\n",
            "Requirement already satisfied: pydantic-core==2.23.4 in /usr/local/lib/python3.10/dist-packages (from pydantic<3.0.0,>=2.7.4->langchain<0.4.0,>=0.3.0->langchain-community) (2.23.4)\n",
            "Collecting mypy-extensions>=0.3.0 (from typing-inspect<1,>=0.4.0->dataclasses-json<0.7,>=0.5.7->langchain-community)\n",
            "  Downloading mypy_extensions-1.0.0-py3-none-any.whl.metadata (1.1 kB)\n",
            "Requirement already satisfied: exceptiongroup in /usr/local/lib/python3.10/dist-packages (from anyio->httpx<1,>=0.23.0->langsmith<0.2.0,>=0.1.112->langchain-community) (1.2.2)\n",
            "Downloading langchain_community-0.3.0-py3-none-any.whl (2.3 MB)\n",
            "\u001b[2K   \u001b[90m━━━━━━━━━━━━━━━━━━━━━━━━━━━━━━━━━━━━━━━━\u001b[0m \u001b[32m2.3/2.3 MB\u001b[0m \u001b[31m86.0 MB/s\u001b[0m eta \u001b[36m0:00:00\u001b[0m\n",
            "\u001b[?25hDownloading dataclasses_json-0.6.7-py3-none-any.whl (28 kB)\n",
            "Downloading langchain-0.3.0-py3-none-any.whl (1.0 MB)\n",
            "\u001b[2K   \u001b[90m━━━━━━━━━━━━━━━━━━━━━━━━━━━━━━━━━━━━━━━━\u001b[0m \u001b[32m1.0/1.0 MB\u001b[0m \u001b[31m55.8 MB/s\u001b[0m eta \u001b[36m0:00:00\u001b[0m\n",
            "\u001b[?25hDownloading langchain_core-0.3.5-py3-none-any.whl (399 kB)\n",
            "\u001b[2K   \u001b[90m━━━━━━━━━━━━━━━━━━━━━━━━━━━━━━━━━━━━━━━━\u001b[0m \u001b[32m399.9/399.9 kB\u001b[0m \u001b[31m32.6 MB/s\u001b[0m eta \u001b[36m0:00:00\u001b[0m\n",
            "\u001b[?25hDownloading langsmith-0.1.126-py3-none-any.whl (290 kB)\n",
            "\u001b[2K   \u001b[90m━━━━━━━━━━━━━━━━━━━━━━━━━━━━━━━━━━━━━━━━\u001b[0m \u001b[32m290.4/290.4 kB\u001b[0m \u001b[31m24.1 MB/s\u001b[0m eta \u001b[36m0:00:00\u001b[0m\n",
            "\u001b[?25hDownloading pydantic_settings-2.5.2-py3-none-any.whl (26 kB)\n",
            "Downloading tenacity-8.5.0-py3-none-any.whl (28 kB)\n",
            "Downloading httpx-0.27.2-py3-none-any.whl (76 kB)\n",
            "\u001b[2K   \u001b[90m━━━━━━━━━━━━━━━━━━━━━━━━━━━━━━━━━━━━━━━━\u001b[0m \u001b[32m76.4/76.4 kB\u001b[0m \u001b[31m7.4 MB/s\u001b[0m eta \u001b[36m0:00:00\u001b[0m\n",
            "\u001b[?25hDownloading httpcore-1.0.5-py3-none-any.whl (77 kB)\n",
            "\u001b[2K   \u001b[90m━━━━━━━━━━━━━━━━━━━━━━━━━━━━━━━━━━━━━━━━\u001b[0m \u001b[32m77.9/77.9 kB\u001b[0m \u001b[31m7.4 MB/s\u001b[0m eta \u001b[36m0:00:00\u001b[0m\n",
            "\u001b[?25hDownloading jsonpatch-1.33-py2.py3-none-any.whl (12 kB)\n",
            "Downloading langchain_text_splitters-0.3.0-py3-none-any.whl (25 kB)\n",
            "Downloading marshmallow-3.22.0-py3-none-any.whl (49 kB)\n",
            "\u001b[2K   \u001b[90m━━━━━━━━━━━━━━━━━━━━━━━━━━━━━━━━━━━━━━━━\u001b[0m \u001b[32m49.3/49.3 kB\u001b[0m \u001b[31m4.4 MB/s\u001b[0m eta \u001b[36m0:00:00\u001b[0m\n",
            "\u001b[?25hDownloading orjson-3.10.7-cp310-cp310-manylinux_2_17_x86_64.manylinux2014_x86_64.whl (141 kB)\n",
            "\u001b[2K   \u001b[90m━━━━━━━━━━━━━━━━━━━━━━━━━━━━━━━━━━━━━━━━\u001b[0m \u001b[32m141.9/141.9 kB\u001b[0m \u001b[31m13.2 MB/s\u001b[0m eta \u001b[36m0:00:00\u001b[0m\n",
            "\u001b[?25hDownloading python_dotenv-1.0.1-py3-none-any.whl (19 kB)\n",
            "Downloading typing_inspect-0.9.0-py3-none-any.whl (8.8 kB)\n",
            "Downloading jsonpointer-3.0.0-py2.py3-none-any.whl (7.6 kB)\n",
            "Downloading mypy_extensions-1.0.0-py3-none-any.whl (4.7 kB)\n",
            "Downloading h11-0.14.0-py3-none-any.whl (58 kB)\n",
            "\u001b[2K   \u001b[90m━━━━━━━━━━━━━━━━━━━━━━━━━━━━━━━━━━━━━━━━\u001b[0m \u001b[32m58.3/58.3 kB\u001b[0m \u001b[31m5.2 MB/s\u001b[0m eta \u001b[36m0:00:00\u001b[0m\n",
            "\u001b[?25hInstalling collected packages: tenacity, python-dotenv, orjson, mypy-extensions, marshmallow, jsonpointer, h11, typing-inspect, jsonpatch, httpcore, pydantic-settings, httpx, dataclasses-json, langsmith, langchain-core, langchain-text-splitters, langchain, langchain-community\n",
            "  Attempting uninstall: tenacity\n",
            "    Found existing installation: tenacity 9.0.0\n",
            "    Uninstalling tenacity-9.0.0:\n",
            "      Successfully uninstalled tenacity-9.0.0\n",
            "Successfully installed dataclasses-json-0.6.7 h11-0.14.0 httpcore-1.0.5 httpx-0.27.2 jsonpatch-1.33 jsonpointer-3.0.0 langchain-0.3.0 langchain-community-0.3.0 langchain-core-0.3.5 langchain-text-splitters-0.3.0 langsmith-0.1.126 marshmallow-3.22.0 mypy-extensions-1.0.0 orjson-3.10.7 pydantic-settings-2.5.2 python-dotenv-1.0.1 tenacity-8.5.0 typing-inspect-0.9.0\n"
          ]
        }
      ]
    },
    {
      "cell_type": "code",
      "source": [
        "from langchain_community.llms import Ollama"
      ],
      "metadata": {
        "id": "YECmHap8iZLJ"
      },
      "execution_count": 3,
      "outputs": []
    },
    {
      "cell_type": "code",
      "source": [
        "llm = Ollama(model=\"qwen2\")"
      ],
      "metadata": {
        "id": "td3V4SfFidgS"
      },
      "execution_count": 11,
      "outputs": []
    },
    {
      "cell_type": "code",
      "source": [
        "llm"
      ],
      "metadata": {
        "colab": {
          "base_uri": "https://localhost:8080/"
        },
        "id": "hWGgRRXIifUm",
        "outputId": "ecd8424b-f90b-44e2-8249-c8cc6a54d6c3"
      },
      "execution_count": 14,
      "outputs": [
        {
          "output_type": "execute_result",
          "data": {
            "text/plain": [
              "Ollama(model='qwen2')"
            ]
          },
          "metadata": {},
          "execution_count": 14
        }
      ]
    },
    {
      "cell_type": "markdown",
      "source": [
        "#English"
      ],
      "metadata": {
        "id": "pnEtLXHzEHDp"
      }
    },
    {
      "cell_type": "code",
      "source": [
        "paper = \"Art. 3. The following management objectives apply to the protected monument: 1 o the general objective of protection is to preserve the heritage features and elements that form the basis of the heritage values. Any modification or new function must respect the protected heritage value, features and elements and support them. In this regard, preservation takes precedence over renewal. This presupposes in the first and foremost professional maintenance and preservation interventions. If restoration or replacement appears necessary, it is advisable to restore the historic condition, if necessary on the basis of building archaeological research; 2° Furthermore, it is desirable: (a) to carry out the façade finishing as intended by Schlich. He provided a roughly applied (acrylic) paint that still allows the masonry bond to show through somewhat. For the structure and color of the paint one can rely on the tests carried out on the southwest wall of the shed. Furthermore, the designer intended vegetate the facades with ivy and other climbing plants, and he made designs for an awning over the large windows of the rear facade; (b) to carry out the landscaping as intended by Schlich. He designed a rectangular terrace at the large windows of the rear facade and a circular catch basin at the mouth of the gargoyle for which a water drain was already constructed. Possibly one could also consider implementing the stepped wall with a car parking area on the southeast side of the plot; . (c) to take into account in the future layout of the interior the plans that Schlich made for this purpose, particularly the provision of suspended ceilings in the smaller rooms and partly in the living room and kitchen, and the arrangement of the kitchen and bathroom. Art. 4. The holder of the right in rem and the user of the protected monument are obliged to ensure its preservation and maintenance by: 1° managing the property with due diligence and taking the necessary precautions taking the necessary precautions against damage caused by fire, lightning, theft, vandalism, wind or water; 2° regularly check the condition of the property; 3° perform regular maintenance; 4° to immediately take appropriate consolidation and security measures in case of emergency. Art. 5. For the following operations on the protected monument, authorization must be must be applied for: 1° installing, demolishing, rebuilding or reconstructing a structure; 2° the removal, replacement, alteration or reinforcement of structural elements; 3° the removal, replacement or modification of historical materials and the application of treatments with the aim of cleaning, restoring, preserving preserving or protecting against weathering and deterioration; 4° performing the following works on the roof and exterior walls of structures: (a) the removal, replacement or alteration of the roof volume, roofing, the roof structure and gutter structures; (b) the removal of joints and re-jointing; (c) the application, removal, replacement or alteration of the color, texture or composition of finish layers; (d) the application, removal, replacement or alteration of exterior joinery, doors, windows, oculi, gates, including glazing, fittings, hardware; (e) the installation, removal, replacement or alteration of aa rd and nail-fixed elements, wrought iron and sculpture, including new additions; (f) affixing, replacing or altering inscriptions, publicity devices or signs, excluding election publicity and excluding publicity devices, advertising that the property is to be kqop or to Page 4 of 5 rental, provided that the total maximum area does not exceed 4m 2 ; 5° carrying out the following environmental works: (a) the installation or modification of overhead and underground utilities and pipes; b) installing or modifying fences; c) the construction or modification of paving with a minimum combined ground area of 30 m2 or the expansion of existing paving by minimum 30m2, with the exception of paving placed within the radius of 30 m around a licensed or deemed licensed building; d) the structural and fundamental alteration of landscaping; 6° performing the following acts on or in the interior: (a) the performance of destructive material technical examination; b) performing structural works and adding new structures; c) - the removal, replacement or modification of historical materials and the applying treatments with the purpose of cleaning the historic materials, restoring, preserving or protecting them from weathering and deterioration; (d) the removal, replacement or alteration of ceilings, vaults, floors, stairs, wall coverings, interior joinery, inclusArt. 4. The holder of the right in rem and the user of the protected monument are obliged to ensure its preservation and maintenance by: 1° managing the property with due diligence and taking the necessary precautions taking the necessary precautions against damage caused by fire, lightning, theft, vandalism, wind or water; 2° regularly check the condition of the property; 3° perform regular maintenance; 4° to immediately take appropriate consolidation and security measures in case of emergency. Art. 5. For the following operations on the protected monument, authorization must be must be applied for: 1° installing, demolishing, rebuilding or reconstructing a structure; 2° the removal, replacement, alteration or reinforcement of structural elements; 3° the removal, replacement or modification of historical materials and the application of treatments with the aim of cleaning, restoring, preserving preserving or protecting against weathering and deterioration; 4° performing the following works on the roof and exterior walls of structures: (a) the removal, replacement or alteration of the roof volume, roofing, the roof structure and gutter structures; (b) the removal of joints and re-jointing; (c) the application, removal, replacement or alteration of the color, texture or composition of finish layers; (d) the application, removal, replacement or alteration of exterior joinery, doors, windows, oculi, gates, including glazing, fittings, hardware; (e) the installation, removal, replacement or alteration of aa rd and nail-fixed elements, wrought iron and sculpture, including new additions; (f) affixing, replacing or altering inscriptions, publicity devices or signs, excluding election publicity and excluding publicity devices, advertising that the property is to be kqop or to Page 4 of 5 rental, provided that the total maximum area does not exceed 4m 2 ; 5° carrying out the following environmental works: (a) the installation or modification of overhead and underground utilities and pipes; b) installing or modifying fences; c) the construction or modification of paving with a minimum combined ground area of 30 m2 or the expansion of existing paving by minimum 30m2, with the exception of paving placed within the radius of 30 m around a licensed or deemed licensed building; d) the structural and fundamental alteration of landscaping; 6° performing the following acts on or in the interior: (a) the performance of destructive material technical examination; b) performing structural works and adding new structures; c) - the removal, replacement or modification of historical materials and the applying treatments with the purpose of cleaning the historic materials, restoring, preserving or protecting them from weathering and deterioration; (d) the removal, replacement or alteration of ceilings, vaults, floors, stairs, wall coverings, interior joinery, including paneling, hardware, hangings and locks, and of the valuable interior decoration; (e) plastering of non-plastered elements or plastering with a different composition or texture, as well as the de-plastering of plastered elements; (f) painting of unpainted elements or painting in other colors or hues or with a different type of paint than the one present; g) installing or renewing technical facilities, such as heating, air conditioning, electrical installation, sound installation, plumbing, elevators .and security installations, with the exception of those installations for which - no require destructive interventions and/or which do not have a disturbing visual impact have on the valuable interior.\""
      ],
      "metadata": {
        "id": "8syyX5ztC_vb"
      },
      "execution_count": 20,
      "outputs": []
    },
    {
      "cell_type": "code",
      "source": [
        "llm.invoke(\"Based on previous instructions, extract the actions from this heritage paper:\" + paper +\". Return the result as a JSON object.\")"
      ],
      "metadata": {
        "colab": {
          "base_uri": "https://localhost:8080/",
          "height": 157
        },
        "id": "G26UFse6igZ5",
        "outputId": "14b44cdd-4a53-4a8b-f6e7-4de9446ab70d"
      },
      "execution_count": 22,
      "outputs": [
        {
          "output_type": "execute_result",
          "data": {
            "text/plain": [
              "'{\\n  \"management_objectives\": [\\n    {\\n      \"objective_1\": {\\n        \"description\": \"To preserve the heritage features and elements that form the basis of the heritage values.\",\\n        \"actions\": [\\n          \"Any modification or new function must respect the protected heritage value, features and elements and support them. Preservation takes precedence over renewal.\"\\n        ],\\n        \"interventions\": [\\n          \"Professional maintenance and preservation interventions\",\\n          \"Restoration or replacement if necessary, with restoration of historic condition based on archaeological research\"\\n        ]\\n      },\\n      \"objective_2\": {\\n        \"description\": \"Carry out the façade finishing as intended by Schlich.\",\\n        \"actions\": [\\n          \"Apply roughly applied (acrylic) paint that allows masonry bond to show through\",\\n          \"Use tests carried out on the southwest wall of the shed for structure and color\",\\n          \"Intend vegetating facades with ivy and other climbing plants\",\\n          \"Design an awning over large windows of the rear facade\"\\n        ]\\n      },\\n      \"objective_3\": {\\n        \"description\": \"Carry out landscaping as intended by Schlich.\",\\n        \"actions\": [\\n          \"Design a rectangular terrace at the large windows of the rear facade\",\\n          \"Create a circular catch basin at the mouth of the gargoyle\",\\n          \"Possibly implement a stepped wall with a car parking area on the southeast side\"\\n        ]\\n      }\\n    }\\n  ],\\n  \"preservation_and_maintenance_obligations\": [\\n    {\\n      \"holder_of_right_in_rem_obligation\": {\\n        \"actions\": [\\n          \"Manage property with due diligence\",\\n          \"Take necessary precautions against damage from various sources\",\\n          \"Regularly check the condition of the property\",\\n          \"Perform regular maintenance\",\\n          \"Take appropriate consolidation and security measures in case of emergency\"\\n        ]\\n      }\\n    },\\n    {\\n      \"operations_requiring_authorization\": [\\n        {\\n          \"operation_1\": {\\n            \"description\": \"Installing, demolishing, rebuilding or reconstructing a structure.\",\\n            \"actions\": []\\n          }\\n        },\\n        {\\n          \"operation_2\": {\\n            \"description\": \"Removal, replacement, alteration or reinforcement of structural elements.\",\\n            \"actions\": []\\n          }\\n        },\\n        {\\n          \"operation_3\": {\\n            \"description\": \"Removal, replacement or modification of historical materials and application of treatments for cleaning, restoration, preservation against weathering and deterioration.\",\\n            \"actions\": []\\n          }\\n        },\\n        {\\n          \"operation_4\": {\\n            \"description\": \"Works on the roof and exterior walls of structures (removal, replacement or alteration of roof volume, roofing, roof structure, gutter structures).\",\\n            \"actions\": [\\n              \"Removal of joints and re-jointing\",\\n              \"Application, removal, replacement or alteration of finish layer colors, textures or compositions\",\\n              \"Alteration of exterior joinery elements\"\\n            ]\\n          }\\n        },\\n        {\\n          \"operation_5\": {\\n            \"description\": \"Affixing, replacing or altering inscriptions, publicity devices or signs.\",\\n            \"actions\": [\\n              \"Excluding election publicity and excluding advertising for sale/rental\",\\n              \"Total maximum area does not exceed 4m²\"\\n            ]\\n          }\\n        },\\n        {\\n          \"operation_6\": {\\n            \"description\": \"Environmental works (installation or modification of utilities, pipes, fences).\",\\n            \"actions\": [\\n              \"Installation or modification of overhead and underground utilities and pipes\",\\n              \"Construction or modification of paving with minimum combined ground area\"\\n            ]\\n          }\\n        },\\n        {\\n          \"operation_7\": {\\n            \"description\": \"Structural alterations to landscaping.\",\\n            \"actions\": []\\n          }\\n        },\\n        {\\n          \"operation_8\": {\\n            \"description\": \"Acts on the interior (material technical examination, structural works and adding new structures).\",\\n            \"actions\": [\\n              \"The removal, replacement or modification of historical materials and application of treatments for cleaning, restoration, preservation against weathering and deterioration.\",\\n              \"Removal, replacement or alteration of ceilings, vaults, floors, stairs, wall coverings, interior joinery\"\\n            ]\\n          }\\n        },\\n        {\\n          \"operation_9\": {\\n            \"description\": \"Plastering non-plastered elements or plastering with a different composition or texture, as well as de-plastering plastered elements.\",\\n            \"actions\": []\\n          }\\n        },\\n        {\\n          \"operation_10\": {\\n            \"description\": \"Painting unpainted elements in other colors or hues or with a different type of paint than the one present.\",\\n            \"actions\": [\\n              \"Installing or renewing technical facilities (heating, air conditioning, electrical installation, sound installation, plumbing, elevators and security installations)\"\\n            ]\\n          }\\n        }\\n      ]\\n    }\\n  ]\\n}'"
            ],
            "application/vnd.google.colaboratory.intrinsic+json": {
              "type": "string"
            }
          },
          "metadata": {},
          "execution_count": 22
        }
      ]
    },
    {
      "cell_type": "markdown",
      "source": [
        "#Dutch"
      ],
      "metadata": {
        "id": "2rrhckQPEJSX"
      }
    },
    {
      "cell_type": "code",
      "source": [
        "paper_dutch = \"Kunst. 3. Voor het beschermde monument gelden de volgende beheerdoelstellingen: 1 o Het algemene doel van bescherming is het behoud van de erfgoedkenmerken en -elementen die ten grondslag liggen aan de erfgoedwaarden. Elke wijziging of nieuwe functie moet de beschermde erfgoedwaarde, kenmerken en elementen respecteren en ondersteunen. In dit opzicht heeft behoud voorrang op vernieuwing. Dit veronderstelt in de eerste plaats professionele onderhouds- en conserveringsinterventies. Indien restauratie of vervanging noodzakelijk blijkt, is het raadzaam de historische toestand te herstellen, eventueel op basis van bouwhistorisch onderzoek; 2° Verder is het wenselijk: (a) de gevelafwerking uit te voeren zoals bedoeld door Schlich. Hij zorgde voor een grof aangebrachte (acryl)verf die de metselverbinding nog enigszins doorlaat. Voor de structuur en kleur van de verf kan men terugvallen op de testen uitgevoerd op de zuidwestelijke muur van de schuur. Verder was de ontwerper van plan de gevels te beplanten met klimop en andere klimplanten, en maakte hij ontwerpen voor een luifel over de grote ramen van de achtergevel; (b) het uitvoeren van de groenvoorziening zoals bedoeld door Schlich. Hij ontwierp een rechthoekig terras bij de grote ramen van de achtergevel en een cirkelvormig opvangbassin bij de monding van de waterspuwer waarvoor al een waterafvoer was aangelegd. Mogelijk kan ook worden overwogen om aan de zuidoostkant van het perceel de trapgevel met parkeerplaats te realiseren; . (c) bij de toekomstige inrichting van het interieur rekening te houden met de plannen die Schlich voor dit doel maakte, met name het aanbrengen van verlaagde plafonds in de kleinere kamers en deels in de woonkamer en keuken, en de inrichting van de keuken en badkamer . Kunst. 4. De houder van het zakelijk recht en de gebruiker van het beschermde monument zijn verplicht het behoud en de instandhouding ervan te verzekeren door: 1° het goed als een goed huisvader te beheren en de nodige voorzorgsmaatregelen te nemen het nemen van de nodige voorzorgsmaatregelen tegen schade veroorzaakt door brand, blikseminslag , diefstal, vandalisme, wind of water; 2° controleer regelmatig de staat van het vastgoed; 3° regelmatig onderhoud uitvoeren; 4° in geval van nood onmiddellijk passende consolidatie- en veiligheidsmaatregelen te nemen. Kunst. 5. Voor de volgende handelingen aan het beschermde monument moet een vergunning worden aangevraagd: 1° het plaatsen, afbreken, herbouwen of herbouwen van een bouwwerk; 2° het verwijderen, vervangen, wijzigen of versterken van structurele elementen; 3° het verwijderen, vervangen of wijzigen van historische materialen en het aanbrengen van behandelingen met als doel het reinigen, restaureren, conserveren of beschermen tegen verwering en aantasting; 4° het uitvoeren van de volgende werken aan het dak en de buitenmuren van constructies: (a) het verwijderen, vervangen of wijzigen van het dakvolume, de dakbedekking, de dakconstructie en de dakgootconstructies; (b) het verwijderen van verbindingen en het opnieuw verbinden; (c) het aanbrengen, verwijderen, vervangen of wijzigen van de kleur, textuur of samenstelling van afwerklagen;\""
      ],
      "metadata": {
        "id": "9zfaodKREKFP"
      },
      "execution_count": 24,
      "outputs": []
    },
    {
      "cell_type": "code",
      "source": [
        "llm.invoke(\"Haal op basis van eerdere instructies de acties uit dit erfgoedpapier:\" + paper_dutch +\". Retourneer het resultaat als een JSON-object.\")"
      ],
      "metadata": {
        "colab": {
          "base_uri": "https://localhost:8080/",
          "height": 157
        },
        "id": "BFm-Dp8aEOIy",
        "outputId": "0b963b23-5123-4972-f1d0-c44369db7652"
      },
      "execution_count": 25,
      "outputs": [
        {
          "output_type": "execute_result",
          "data": {
            "text/plain": [
              "'{\\n  \"instructions\": [\\n    {\\n      \"action\": \"Behoud van erfgoedkenmerken en -elementen\",\\n      \"description\": \"Elke wijziging of nieuwe functie moet de beschermde erfgoedwaarde, kenmerken en elementen respecteren en ondersteunen. In dit opzicht heeft behoud voorrang op vernieuwing.\",\\n      \"condition\": \"Veranderingen zullen alleen worden toegestaan die het erfgoed in zijn huidige staat behouden of verbeteren.\"\\n    },\\n    {\\n      \"action\": \"Gevelafwerking\",\\n      \"description\": \"De gevelafwerking moet uitgevoerd worden zoals bedoeld door Schlich. Dit betreft een grof aangebrachte (acryl)verf die de metselverbinding nog enigszins doorlaat.\",\\n      \"condition\": \"Er wordt opgetekend hoe de gevels kunnen worden beplant met klimop en andere planten, en er wordt ontwerpen voor een luifel over de grote ramen van de achtergevel gemaakt.\"\\n    },\\n    {\\n      \"action\": \"Groenvoorziening\",\\n      \"description\": \"De groenvoorziening moet uitgevoerd worden zoals bedoeld door Schlich. Dit omvat het creëren van een rechthoekig terras en een cirkelvormig opvangbassin.\",\\n      \"condition\": \"Het is overwogen om aan de zuidoostkant van het perceel de trapgevel met parkeerplaats te realiseren.\"\\n    },\\n    {\\n      \"action\": \"Beheersing en instandhouding\",\\n      \"description\": \"De houder van het zakelijk recht en de gebruiker van het monument moeten het behouden en in goede staat houden door regelmatig onderhoud uitvoeren, passende consolidatie- en veiligheidsmaatregelen te nemen en controleren of er geen schade veroorzaakt wordt.\",\\n      \"condition\": \"Deze verplichtingen zullen worden gedragen als een verantwoordelijkheid van de beheerder.\"\\n    },\\n    {\\n      \"action\": \"Vergunningen\",\\n      \"description\": \"Vergunningsvragen moeten gesteld, aangebracht of afgebroken worden voor bouwwerken, structuurselementen, historische materialen en werken aan het dak en de buitenmuren van constructies.\",\\n      \"condition\": \"Elke handeling die verandering of schade kan veroorzaken moet een vergunning vragen om te voorkomen dat er ongepast wordt gebeurd.\"\\n    }\\n  ]\\n}'"
            ],
            "application/vnd.google.colaboratory.intrinsic+json": {
              "type": "string"
            }
          },
          "metadata": {},
          "execution_count": 25
        }
      ]
    },
    {
      "cell_type": "code",
      "source": [],
      "metadata": {
        "id": "iK9sm9ChFnIN"
      },
      "execution_count": null,
      "outputs": []
    }
  ]
}